{
 "cells": [
  {
   "cell_type": "code",
   "execution_count": 2,
   "metadata": {},
   "outputs": [],
   "source": [
    "word_embedding_smell_place_sentiment = pd.read_csv(\"word_embedding_smell_place_sentiment.csv\")"
   ]
  },
  {
   "cell_type": "code",
   "execution_count": 1,
   "metadata": {},
   "outputs": [
    {
     "name": "stdout",
     "output_type": "stream",
     "text": [
      "2028\n",
      "1895\n"
     ]
    }
   ],
   "source": [
    "from scipy import spatial\n",
    "from sklearn.manifold import TSNE\n",
    "import numpy as np\n",
    "from matplotlib import pyplot as plt\n",
    "from sklearn.manifold import TSNE\n",
    "import json\n",
    "import pandas as pd\n",
    "from sklearn.cluster import KMeans\n",
    "import add_remove_triggers\n",
    "from sklearn.datasets import make_blobs\n"
   ]
  },
  {
   "cell_type": "code",
   "execution_count": 3,
   "metadata": {},
   "outputs": [
    {
     "name": "stdout",
     "output_type": "stream",
     "text": [
      "          index         0         1         2         3         4         5  \\\n",
      "0         serai  0.006363 -0.887972 -0.448148  0.154786 -0.723515  0.493552   \n",
      "1          bunk -0.596624 -0.685537  0.216246  0.126691  0.477330 -0.723692   \n",
      "11        wifts -0.007538  0.011265  0.000287 -0.008653 -0.001009 -0.009384   \n",
      "12  distinctive -0.539032 -0.422406  0.123569  0.884328  1.082817 -0.041976   \n",
      "16           my -0.301380 -0.140160  0.105720  0.444570 -0.227620 -0.153750   \n",
      "\n",
      "           6         7         8  ...        46        47        48        49  \\\n",
      "0  -0.603726  0.120514  0.750484  ... -0.024676 -0.006854  0.965476 -0.448186   \n",
      "1   0.098326 -0.696686 -0.083267  ...  0.986314  0.996982  0.473474 -0.151917   \n",
      "11  0.000518  0.005325  0.005536  ... -0.001322 -0.004917 -0.007003 -0.005275   \n",
      "12  0.189599 -1.052202 -0.958993  ...  0.917082  0.081681 -0.211352 -0.390180   \n",
      "16  1.312100  0.154160 -0.048510  ...  0.808250 -0.263160  0.616730  0.420830   \n",
      "\n",
      "                     id                                   processed_tweets  \\\n",
      "0   1232809049327988736  idk how many ppl ive annoyed with the smell of...   \n",
      "1   1232704604686520320    why does my bunk smell so fucking bad holy shit   \n",
      "11  1230263504545906689  same attraction yes same angle probably not an...   \n",
      "12  1230085398308642816  amk hub has a distinctive smell leh its not ba...   \n",
      "16  1229172632945213440  i dont know why but this rishi guy doesnt pass...   \n",
      "\n",
      "           LOC                         place  loc_pretrained  sentiment_scores  \n",
      "0   bau ketiak       North Region, Singapore             NaN           -0.5574  \n",
      "1          NaN        East Region, Singapore             NaN           -0.8375  \n",
      "11         NaN     Central Region, Singapore             NaN            0.6908  \n",
      "12         NaN  North-East Region, Singapore             NaN            0.4310  \n",
      "16         NaN        East Region, Singapore             NaN            0.7783  \n",
      "\n",
      "[5 rows x 57 columns]\n",
      "2032\n"
     ]
    }
   ],
   "source": [
    "word_embedding_smell_place_sentiment= word_embedding_smell_place_sentiment[word_embedding_smell_place_sentiment['index'].notnull()]\n",
    "\n",
    "print(word_embedding_smell_place_sentiment.head())\n",
    "print(len(word_embedding_smell_place_sentiment))\n"
   ]
  },
  {
   "cell_type": "code",
   "execution_count": 11,
   "metadata": {},
   "outputs": [],
   "source": [
    "word_lists = word_embedding_smell_place_sentiment.iloc[:, 0]\n",
    "word_embedding_smell_place_vectors =word_embedding_smell_place_sentiment.iloc[:, 1:50]\n",
    "word_embedding_smell_place_vectors = word_embedding_smell_place_vectors.to_numpy().tolist()\n"
   ]
  },
  {
   "cell_type": "code",
   "execution_count": 5,
   "metadata": {},
   "outputs": [],
   "source": []
  },
  {
   "cell_type": "code",
   "execution_count": 12,
   "metadata": {},
   "outputs": [
    {
     "data": {
      "text/plain": [
       "[0.00636284239590168,\n",
       " -0.8879719972610474,\n",
       " -0.4481475055217743,\n",
       " 0.15478560328483582,\n",
       " -0.7235152721405029,\n",
       " 0.4935522377490997,\n",
       " -0.6037262678146362,\n",
       " 0.12051373720169067,\n",
       " 0.7504835724830627,\n",
       " -0.39801472425460815,\n",
       " -0.7285409569740295,\n",
       " -0.7951818108558655,\n",
       " -0.18868474662303925,\n",
       " -0.3999676704406738,\n",
       " -0.16431903839111328,\n",
       " 1.707017421722412,\n",
       " 0.012116829864680769,\n",
       " 0.3165268301963806,\n",
       " -2.284417629241944,\n",
       " 0.8208096027374268,\n",
       " 1.1624736785888672,\n",
       " -1.036831617355347,\n",
       " -0.4363898038864136,\n",
       " -1.0255520343780518,\n",
       " -0.7592663168907166,\n",
       " -0.7584944367408752,\n",
       " -0.3767394125461577,\n",
       " -1.2066650390625,\n",
       " -0.25942859053611755,\n",
       " -0.039440613240003586,\n",
       " 0.5551521182060242,\n",
       " -0.4239669740200043,\n",
       " -0.8320233225822449,\n",
       " -0.437174916267395,\n",
       " 0.590674102306366,\n",
       " 0.08462938666343689,\n",
       " -0.7096830010414124,\n",
       " -0.9952312111854552,\n",
       " 1.3312344551086426,\n",
       " 0.11869893968105315,\n",
       " -0.2390024960041046,\n",
       " -0.7029726505279541,\n",
       " 0.19152501225471494,\n",
       " 0.624495804309845,\n",
       " 0.02299819141626358,\n",
       " 0.15332859754562378,\n",
       " -0.02467605285346508,\n",
       " -0.006853671744465828,\n",
       " 0.9654756784439088]"
      ]
     },
     "execution_count": 12,
     "metadata": {},
     "output_type": "execute_result"
    }
   ],
   "source": [
    "word_embedding_smell_place_vectors[0]"
   ]
  },
  {
   "cell_type": "code",
   "execution_count": 15,
   "metadata": {},
   "outputs": [],
   "source": [
    "word_embedding_smell_place_vectors_for_df = [i for i in word_embedding_smell_place_vectors]"
   ]
  },
  {
   "cell_type": "code",
   "execution_count": 16,
   "metadata": {},
   "outputs": [
    {
     "data": {
      "text/plain": [
       "0.00636284239590168"
      ]
     },
     "execution_count": 16,
     "metadata": {},
     "output_type": "execute_result"
    }
   ],
   "source": [
    "word_embedding_smell_place_vectors_for_df[0][0]"
   ]
  },
  {
   "cell_type": "code",
   "execution_count": 18,
   "metadata": {},
   "outputs": [],
   "source": [
    "tsne_model = TSNE(perplexity=40, n_components=2, init='pca', n_iter=2500, random_state=23)"
   ]
  },
  {
   "cell_type": "code",
   "execution_count": 19,
   "metadata": {},
   "outputs": [],
   "source": [
    "word_embedding_smell_place_vectors_2d = tsne_model.fit_transform(word_embedding_smell_place_vectors)"
   ]
  },
  {
   "cell_type": "code",
   "execution_count": 20,
   "metadata": {},
   "outputs": [
    {
     "name": "stdout",
     "output_type": "stream",
     "text": [
      "                      0          1\n",
      "index                             \n",
      "serai       -105.107750  -1.207965\n",
      "bunk          40.030155  41.715534\n",
      "wifts        -48.840691 -22.506067\n",
      "distinctive  -13.534621 -21.644268\n",
      "my           180.621170 -29.329498\n",
      "2032\n"
     ]
    }
   ],
   "source": [
    "df_new =pd.DataFrame(word_embedding_smell_place_vectors_2d, word_lists)\n",
    "\n",
    "print(df_new.head())\n",
    "print(len(df_new))"
   ]
  },
  {
   "cell_type": "code",
   "execution_count": 25,
   "metadata": {},
   "outputs": [
    {
     "name": "stdout",
     "output_type": "stream",
     "text": [
      "2032\n"
     ]
    }
   ],
   "source": [
    "sentiment = []\n",
    "for i in range(len(word_embedding_smell_place_sentiment['sentiment_scores'])):\n",
    "    if word_embedding_smell_place_sentiment['sentiment_scores'].iloc[i] > 0:\n",
    "        sentiment.append('positive')\n",
    "    elif word_embedding_smell_place_sentiment['sentiment_scores'].iloc[i] < 0:\n",
    "        sentiment.append('negative')\n",
    "    else:\n",
    "        sentiment.append('netural')\n",
    "\n",
    "print(len(sentiment))"
   ]
  },
  {
   "cell_type": "code",
   "execution_count": 26,
   "metadata": {},
   "outputs": [],
   "source": [
    "df_new['sentiment'] = sentiment"
   ]
  },
  {
   "cell_type": "code",
   "execution_count": 38,
   "metadata": {},
   "outputs": [
    {
     "data": {
      "text/html": [
       "<div>\n",
       "<style scoped>\n",
       "    .dataframe tbody tr th:only-of-type {\n",
       "        vertical-align: middle;\n",
       "    }\n",
       "\n",
       "    .dataframe tbody tr th {\n",
       "        vertical-align: top;\n",
       "    }\n",
       "\n",
       "    .dataframe thead th {\n",
       "        text-align: right;\n",
       "    }\n",
       "</style>\n",
       "<table border=\"1\" class=\"dataframe\">\n",
       "  <thead>\n",
       "    <tr style=\"text-align: right;\">\n",
       "      <th></th>\n",
       "      <th>0</th>\n",
       "      <th>1</th>\n",
       "      <th>sentiment_scores</th>\n",
       "      <th>sentiment</th>\n",
       "    </tr>\n",
       "    <tr>\n",
       "      <th>index</th>\n",
       "      <th></th>\n",
       "      <th></th>\n",
       "      <th></th>\n",
       "      <th></th>\n",
       "    </tr>\n",
       "  </thead>\n",
       "  <tbody>\n",
       "    <tr>\n",
       "      <th>serai</th>\n",
       "      <td>-105.107750</td>\n",
       "      <td>-1.207965</td>\n",
       "      <td>NaN</td>\n",
       "      <td>negative</td>\n",
       "    </tr>\n",
       "    <tr>\n",
       "      <th>bunk</th>\n",
       "      <td>40.030155</td>\n",
       "      <td>41.715534</td>\n",
       "      <td>NaN</td>\n",
       "      <td>negative</td>\n",
       "    </tr>\n",
       "    <tr>\n",
       "      <th>wifts</th>\n",
       "      <td>-48.840691</td>\n",
       "      <td>-22.506067</td>\n",
       "      <td>NaN</td>\n",
       "      <td>positive</td>\n",
       "    </tr>\n",
       "    <tr>\n",
       "      <th>distinctive</th>\n",
       "      <td>-13.534621</td>\n",
       "      <td>-21.644268</td>\n",
       "      <td>NaN</td>\n",
       "      <td>positive</td>\n",
       "    </tr>\n",
       "    <tr>\n",
       "      <th>my</th>\n",
       "      <td>180.621170</td>\n",
       "      <td>-29.329498</td>\n",
       "      <td>NaN</td>\n",
       "      <td>positive</td>\n",
       "    </tr>\n",
       "  </tbody>\n",
       "</table>\n",
       "</div>"
      ],
      "text/plain": [
       "                      0          1  sentiment_scores sentiment\n",
       "index                                                         \n",
       "serai       -105.107750  -1.207965               NaN  negative\n",
       "bunk          40.030155  41.715534               NaN  negative\n",
       "wifts        -48.840691 -22.506067               NaN  positive\n",
       "distinctive  -13.534621 -21.644268               NaN  positive\n",
       "my           180.621170 -29.329498               NaN  positive"
      ]
     },
     "execution_count": 38,
     "metadata": {},
     "output_type": "execute_result"
    }
   ],
   "source": [
    "df_new.head()"
   ]
  },
  {
   "cell_type": "code",
   "execution_count": 39,
   "metadata": {},
   "outputs": [
    {
     "name": "stdout",
     "output_type": "stream",
     "text": [
      "                      0          1  sentiment_scores\n",
      "index                                               \n",
      "wifts        -48.840691 -22.506067               NaN\n",
      "distinctive  -13.534621 -21.644268               NaN\n",
      "my           180.621170 -29.329498               NaN\n",
      "ship          51.216492 -48.469009               NaN\n",
      "lovely       101.955986  -6.598257               NaN\n",
      "         index           0          1  sentiment_scores\n",
      "0        wifts  -48.840691 -22.506067               NaN\n",
      "1  distinctive  -13.534621 -21.644268               NaN\n",
      "2           my  180.621170 -29.329498               NaN\n",
      "3         ship   51.216492 -48.469009               NaN\n",
      "4       lovely  101.955986  -6.598257               NaN\n"
     ]
    },
    {
     "ename": "KeyError",
     "evalue": "'index'",
     "output_type": "error",
     "traceback": [
      "\u001b[0;31m---------------------------------------------------------------------------\u001b[0m",
      "\u001b[0;31mKeyError\u001b[0m                                  Traceback (most recent call last)",
      "\u001b[0;32m<ipython-input-39-af94605f1ee4>\u001b[0m in \u001b[0;36m<module>\u001b[0;34m\u001b[0m\n\u001b[1;32m     12\u001b[0m \u001b[0mnegative_label\u001b[0m \u001b[0;34m=\u001b[0m \u001b[0mnegative_label\u001b[0m\u001b[0;34m[\u001b[0m\u001b[0;34m'index'\u001b[0m\u001b[0;34m]\u001b[0m\u001b[0;34m\u001b[0m\u001b[0m\n\u001b[1;32m     13\u001b[0m \u001b[0mnetural_label\u001b[0m \u001b[0;34m=\u001b[0m \u001b[0mnetural\u001b[0m\u001b[0;34m.\u001b[0m\u001b[0mreset_index\u001b[0m\u001b[0;34m(\u001b[0m\u001b[0mlevel\u001b[0m\u001b[0;34m=\u001b[0m\u001b[0;36m0\u001b[0m\u001b[0;34m)\u001b[0m\u001b[0;34m\u001b[0m\u001b[0m\n\u001b[0;32m---> 14\u001b[0;31m \u001b[0mnegative_label\u001b[0m\u001b[0;34m=\u001b[0m\u001b[0mnegative_label\u001b[0m\u001b[0;34m[\u001b[0m\u001b[0;34m'index'\u001b[0m\u001b[0;34m]\u001b[0m\u001b[0;34m\u001b[0m\u001b[0m\n\u001b[0m",
      "\u001b[0;32m~/pilot_study/lib/python3.6/site-packages/pandas/core/series.py\u001b[0m in \u001b[0;36m__getitem__\u001b[0;34m(self, key)\u001b[0m\n\u001b[1;32m    869\u001b[0m         \u001b[0mkey\u001b[0m \u001b[0;34m=\u001b[0m \u001b[0mcom\u001b[0m\u001b[0;34m.\u001b[0m\u001b[0mapply_if_callable\u001b[0m\u001b[0;34m(\u001b[0m\u001b[0mkey\u001b[0m\u001b[0;34m,\u001b[0m \u001b[0mself\u001b[0m\u001b[0;34m)\u001b[0m\u001b[0;34m\u001b[0m\u001b[0m\n\u001b[1;32m    870\u001b[0m         \u001b[0;32mtry\u001b[0m\u001b[0;34m:\u001b[0m\u001b[0;34m\u001b[0m\u001b[0m\n\u001b[0;32m--> 871\u001b[0;31m             \u001b[0mresult\u001b[0m \u001b[0;34m=\u001b[0m \u001b[0mself\u001b[0m\u001b[0;34m.\u001b[0m\u001b[0mindex\u001b[0m\u001b[0;34m.\u001b[0m\u001b[0mget_value\u001b[0m\u001b[0;34m(\u001b[0m\u001b[0mself\u001b[0m\u001b[0;34m,\u001b[0m \u001b[0mkey\u001b[0m\u001b[0;34m)\u001b[0m\u001b[0;34m\u001b[0m\u001b[0m\n\u001b[0m\u001b[1;32m    872\u001b[0m \u001b[0;34m\u001b[0m\u001b[0m\n\u001b[1;32m    873\u001b[0m             \u001b[0;32mif\u001b[0m \u001b[0;32mnot\u001b[0m \u001b[0mis_scalar\u001b[0m\u001b[0;34m(\u001b[0m\u001b[0mresult\u001b[0m\u001b[0;34m)\u001b[0m\u001b[0;34m:\u001b[0m\u001b[0;34m\u001b[0m\u001b[0m\n",
      "\u001b[0;32m~/pilot_study/lib/python3.6/site-packages/pandas/core/indexes/base.py\u001b[0m in \u001b[0;36mget_value\u001b[0;34m(self, series, key)\u001b[0m\n\u001b[1;32m   4403\u001b[0m         \u001b[0mk\u001b[0m \u001b[0;34m=\u001b[0m \u001b[0mself\u001b[0m\u001b[0;34m.\u001b[0m\u001b[0m_convert_scalar_indexer\u001b[0m\u001b[0;34m(\u001b[0m\u001b[0mk\u001b[0m\u001b[0;34m,\u001b[0m \u001b[0mkind\u001b[0m\u001b[0;34m=\u001b[0m\u001b[0;34m\"getitem\"\u001b[0m\u001b[0;34m)\u001b[0m\u001b[0;34m\u001b[0m\u001b[0m\n\u001b[1;32m   4404\u001b[0m         \u001b[0;32mtry\u001b[0m\u001b[0;34m:\u001b[0m\u001b[0;34m\u001b[0m\u001b[0m\n\u001b[0;32m-> 4405\u001b[0;31m             \u001b[0;32mreturn\u001b[0m \u001b[0mself\u001b[0m\u001b[0;34m.\u001b[0m\u001b[0m_engine\u001b[0m\u001b[0;34m.\u001b[0m\u001b[0mget_value\u001b[0m\u001b[0;34m(\u001b[0m\u001b[0ms\u001b[0m\u001b[0;34m,\u001b[0m \u001b[0mk\u001b[0m\u001b[0;34m,\u001b[0m \u001b[0mtz\u001b[0m\u001b[0;34m=\u001b[0m\u001b[0mgetattr\u001b[0m\u001b[0;34m(\u001b[0m\u001b[0mseries\u001b[0m\u001b[0;34m.\u001b[0m\u001b[0mdtype\u001b[0m\u001b[0;34m,\u001b[0m \u001b[0;34m\"tz\"\u001b[0m\u001b[0;34m,\u001b[0m \u001b[0;32mNone\u001b[0m\u001b[0;34m)\u001b[0m\u001b[0;34m)\u001b[0m\u001b[0;34m\u001b[0m\u001b[0m\n\u001b[0m\u001b[1;32m   4406\u001b[0m         \u001b[0;32mexcept\u001b[0m \u001b[0mKeyError\u001b[0m \u001b[0;32mas\u001b[0m \u001b[0me1\u001b[0m\u001b[0;34m:\u001b[0m\u001b[0;34m\u001b[0m\u001b[0m\n\u001b[1;32m   4407\u001b[0m             \u001b[0;32mif\u001b[0m \u001b[0mlen\u001b[0m\u001b[0;34m(\u001b[0m\u001b[0mself\u001b[0m\u001b[0;34m)\u001b[0m \u001b[0;34m>\u001b[0m \u001b[0;36m0\u001b[0m \u001b[0;32mand\u001b[0m \u001b[0;34m(\u001b[0m\u001b[0mself\u001b[0m\u001b[0;34m.\u001b[0m\u001b[0mholds_integer\u001b[0m\u001b[0;34m(\u001b[0m\u001b[0;34m)\u001b[0m \u001b[0;32mor\u001b[0m \u001b[0mself\u001b[0m\u001b[0;34m.\u001b[0m\u001b[0mis_boolean\u001b[0m\u001b[0;34m(\u001b[0m\u001b[0;34m)\u001b[0m\u001b[0;34m)\u001b[0m\u001b[0;34m:\u001b[0m\u001b[0;34m\u001b[0m\u001b[0m\n",
      "\u001b[0;32mpandas/_libs/index.pyx\u001b[0m in \u001b[0;36mpandas._libs.index.IndexEngine.get_value\u001b[0;34m()\u001b[0m\n",
      "\u001b[0;32mpandas/_libs/index.pyx\u001b[0m in \u001b[0;36mpandas._libs.index.IndexEngine.get_value\u001b[0;34m()\u001b[0m\n",
      "\u001b[0;32mpandas/_libs/index.pyx\u001b[0m in \u001b[0;36mpandas._libs.index.IndexEngine.get_loc\u001b[0;34m()\u001b[0m\n",
      "\u001b[0;32mpandas/_libs/index_class_helper.pxi\u001b[0m in \u001b[0;36mpandas._libs.index.Int64Engine._check_type\u001b[0;34m()\u001b[0m\n",
      "\u001b[0;31mKeyError\u001b[0m: 'index'"
     ]
    }
   ],
   "source": [
    "positive = df_new[df_new['sentiment'] == 'positive']\n",
    "positive=positive.drop(columns='sentiment')\n",
    "print(positive.head())\n",
    "negative = df_new[df_new['sentiment'] == 'negative']\n",
    "negative=negative.drop(columns='sentiment')\n",
    "netural = df_new[df_new['sentiment'] == 'netural']\n",
    "netural=netural.drop(columns='sentiment')\n",
    "positive_label = positive.reset_index(level=0)\n",
    "print(positive_label.head())\n",
    "positive_label = positive_label['index']\n",
    "negative_label = negative.reset_index(level=0)\n",
    "negative_label = negative_label['index']\n",
    "netural_label = netural.reset_index(level=0)\n",
    "negative_label=netur_label['index']"
   ]
  },
  {
   "cell_type": "code",
   "execution_count": null,
   "metadata": {},
   "outputs": [],
   "source": [
    "data = (positive, negative,netural)\n",
    "colors =(\"aquamarine\", \"slateblue\", \"purple\")\n",
    "groups = (\"positive\", \"negative\", \"netural\")"
   ]
  }
 ],
 "metadata": {
  "kernelspec": {
   "display_name": "pilot_study",
   "language": "python",
   "name": "pilot_study"
  },
  "language_info": {
   "codemirror_mode": {
    "name": "ipython",
    "version": 3
   },
   "file_extension": ".py",
   "mimetype": "text/x-python",
   "name": "python",
   "nbconvert_exporter": "python",
   "pygments_lexer": "ipython3",
   "version": "3.6.5"
  }
 },
 "nbformat": 4,
 "nbformat_minor": 2
}
