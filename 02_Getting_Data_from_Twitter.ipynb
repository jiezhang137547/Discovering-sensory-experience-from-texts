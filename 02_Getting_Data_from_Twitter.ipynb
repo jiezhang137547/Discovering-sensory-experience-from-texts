{
 "cells": [
  {
   "cell_type": "markdown",
   "metadata": {
    "colab_type": "text",
    "id": "bNxHQqJzKlRS"
   },
   "source": [
    "# Getting Data from TWITTER \n",
    "\n",
    "- https://www.twitter.com/leehsienloong\n",
    "- https://www.twitter.com/STcom\n",
    "- https://www.twitter.com/stompsingapore"
   ]
  },
  {
   "cell_type": "markdown",
   "metadata": {
    "colab_type": "text",
    "id": "bXgED82hKlRT"
   },
   "source": [
    "# Getting Twitter API keys\n",
    "\n",
    "In order to access Twitter Streaming API, we need to get 4 pieces of information from Twitter: API key, API secret, Access token and Access token secret. Follow the steps below to get all 4 elements:\n",
    "\n",
    "- Create a Twitter account if you do not already have one.\n",
    "- Go to https://apps.twitter.com/ and log in with your Twitter credentials.\n",
    "- Click **Create New App**\n",
    "- Fill out the form, agree to the terms, and click **Create your Twitter application**\n",
    "- In the next page, click on **API keys** tab, and copy your **API key** and **API secret**.\n",
    "- Scroll down and click **Create my access token**, and copy your **Access token** and **Access token secret**.\n"
   ]
  },
  {
   "cell_type": "markdown",
   "metadata": {
    "colab_type": "text",
    "id": "rhspWXVGKlRU"
   },
   "source": [
    "# Connecting to Twitter Streaming API and Download Data using `Tweepy`\n",
    "\n",
    "We will be using a Python library called **Tweepy** to connect to **Twitter Streaming API** and downloading the data. If you don't have Tweepy installed in your machine, go to this link ([github.com/tweepy/tweepy](https://github.com/tweepy/tweepy)), and follow the installation instructions.\n",
    "\n",
    "To install, simply launch **Terminal** and type:\n",
    "- pip install tweepy \n",
    "- **[or]** sudo pip install tweepy "
   ]
  },
  {
   "cell_type": "code",
   "execution_count": 0,
   "metadata": {
    "colab": {},
    "colab_type": "code",
    "id": "qa6sW6YyKlRV"
   },
   "outputs": [],
   "source": [
    "# Variables that contains the user credentials to access Twitter API \n",
    "access_token = '820512461870612480-fFnHWvWscwO34I42XCl5MxHqa0sGfSR'     # PLEASE USE YOUR OWN\n",
    "access_token_secret = 's4BBHmIbRFR1UR8JLiIoP166jvfKaKAoK1c07lthUElE6'   # PLEASE USE YOUR OWN\n",
    "consumer_key = '4s7i2W2ixaIHSbiVTrx5CLd6B'                              # PLEASE USE YOUR OWN\n",
    "consumer_secret = '96yhhyxzFDharTYFQdkcdQFSK9S63ggMMQ4ft8cCNVr3nHyYEV'  # PLEASE USE YOUR OWN"
   ]
  },
  {
   "cell_type": "code",
   "execution_count": 0,
   "metadata": {
    "colab": {
     "base_uri": "https://localhost:8080/",
     "height": 360
    },
    "colab_type": "code",
    "id": "2M8ZLDdCK2v5",
    "outputId": "e7e9d0de-bf30-4bda-e714-4e1642cdc99e"
   },
   "outputs": [
    {
     "name": "stdout",
     "output_type": "stream",
     "text": [
      "Collecting tweepy\n",
      "  Downloading https://files.pythonhosted.org/packages/d5/5f/daac4b4e9b30d7d2a6fdd16a880ff79f27918fe388e4dfc1983dec3a9876/tweepy-3.7.0-py2.py3-none-any.whl\n",
      "Requirement already satisfied: requests-oauthlib>=0.7.0 in /usr/local/lib/python3.6/dist-packages (from tweepy) (1.0.0)\n",
      "Requirement already satisfied: requests>=2.11.1 in /usr/local/lib/python3.6/dist-packages (from tweepy) (2.18.4)\n",
      "Requirement already satisfied: six>=1.10.0 in /usr/local/lib/python3.6/dist-packages (from tweepy) (1.11.0)\n",
      "Collecting PySocks>=1.5.7 (from tweepy)\n",
      "\u001b[?25l  Downloading https://files.pythonhosted.org/packages/53/12/6bf1d764f128636cef7408e8156b7235b150ea31650d0260969215bb8e7d/PySocks-1.6.8.tar.gz (283kB)\n",
      "\u001b[K    100% |████████████████████████████████| 286kB 12.3MB/s \n",
      "\u001b[?25hRequirement already satisfied: oauthlib>=0.6.2 in /usr/local/lib/python3.6/dist-packages (from requests-oauthlib>=0.7.0->tweepy) (2.1.0)\n",
      "Requirement already satisfied: idna<2.7,>=2.5 in /usr/local/lib/python3.6/dist-packages (from requests>=2.11.1->tweepy) (2.6)\n",
      "Requirement already satisfied: urllib3<1.23,>=1.21.1 in /usr/local/lib/python3.6/dist-packages (from requests>=2.11.1->tweepy) (1.22)\n",
      "Requirement already satisfied: chardet<3.1.0,>=3.0.2 in /usr/local/lib/python3.6/dist-packages (from requests>=2.11.1->tweepy) (3.0.4)\n",
      "Requirement already satisfied: certifi>=2017.4.17 in /usr/local/lib/python3.6/dist-packages (from requests>=2.11.1->tweepy) (2018.11.29)\n",
      "Building wheels for collected packages: PySocks\n",
      "  Running setup.py bdist_wheel for PySocks ... \u001b[?25l-\b \bdone\n",
      "\u001b[?25h  Stored in directory: /root/.cache/pip/wheels/22/5c/b5/12e0dfdfa85bea67b23628b6425fae715c687e947a45ee3df9\n",
      "Successfully built PySocks\n",
      "Installing collected packages: PySocks, tweepy\n",
      "Successfully installed PySocks-1.6.8 tweepy-3.7.0\n"
     ]
    }
   ],
   "source": [
    "!pip install tweepy"
   ]
  },
  {
   "cell_type": "markdown",
   "metadata": {
    "colab_type": "text",
    "id": "rrD_ZaifKlRY"
   },
   "source": [
    "# Twitter Search"
   ]
  },
  {
   "cell_type": "code",
   "execution_count": 0,
   "metadata": {
    "colab": {},
    "colab_type": "code",
    "id": "cZIH1i5ZKlRZ"
   },
   "outputs": [],
   "source": [
    "import tweepy\n",
    "from tweepy import OAuthHandler\n",
    "\n",
    "auth = OAuthHandler(consumer_key, consumer_secret)\n",
    "auth.set_access_token(access_token, access_token_secret)\n",
    "\n",
    "api = tweepy.API(auth)"
   ]
  },
  {
   "cell_type": "code",
   "execution_count": 0,
   "metadata": {
    "colab": {},
    "colab_type": "code",
    "id": "lRJX46msKlRa"
   },
   "outputs": [],
   "source": [
    "results = api.search(q='obama', count=50, lang='en')"
   ]
  },
  {
   "cell_type": "code",
   "execution_count": 0,
   "metadata": {
    "colab": {
     "base_uri": "https://localhost:8080/",
     "height": 51
    },
    "colab_type": "code",
    "id": "LNSFH8cQKlRd",
    "outputId": "ffb2e147-25b7-4d22-aebb-161210b2de64"
   },
   "outputs": [
    {
     "name": "stdout",
     "output_type": "stream",
     "text": [
      "<class 'tweepy.models.Status'>\n",
      "<class 'dict'>\n"
     ]
    }
   ],
   "source": [
    "# Convert a result to JSON with \"._json\"\n",
    "print(type(results[0]))\n",
    "print(type(results[0]._json))"
   ]
  },
  {
   "cell_type": "code",
   "execution_count": 0,
   "metadata": {
    "colab": {},
    "colab_type": "code",
    "id": "_t5L-ssNKlRh"
   },
   "outputs": [],
   "source": [
    "# Convert all the results into a `list of dictionaries`\n",
    "list_of_status_dicts = []\n",
    "\n",
    "for result in results:\n",
    "    list_of_status_dicts.append( result._json )"
   ]
  },
  {
   "cell_type": "code",
   "execution_count": 0,
   "metadata": {
    "colab": {},
    "colab_type": "code",
    "id": "av1hvfhCKlRj"
   },
   "outputs": [],
   "source": [
    "# This code is the same as the code in the cell above, just that it's shorter.\n",
    "# [Python list comprehension] Convert all the results into a `list of dictionaries`\n",
    "list_of_status_dicts = [result._json for result in results]"
   ]
  },
  {
   "cell_type": "code",
   "execution_count": 0,
   "metadata": {
    "colab": {
     "base_uri": "https://localhost:8080/",
     "height": 34
    },
    "colab_type": "code",
    "id": "ACje5rW2KlRl",
    "outputId": "f80c8c35-bec1-4bd4-9959-780c5ad9d1ad",
    "scrolled": false
   },
   "outputs": [
    {
     "data": {
      "text/plain": [
       "50"
      ]
     },
     "execution_count": 9,
     "metadata": {
      "tags": []
     },
     "output_type": "execute_result"
    }
   ],
   "source": [
    "len(list_of_status_dicts)"
   ]
  },
  {
   "cell_type": "code",
   "execution_count": 0,
   "metadata": {
    "colab": {
     "base_uri": "https://localhost:8080/",
     "height": 54
    },
    "colab_type": "code",
    "id": "xnNR6DtSKlRo",
    "outputId": "fe362826-3ba7-4a09-c7b2-c8fbab9c12c7"
   },
   "outputs": [
    {
     "data": {
      "text/plain": [
       "dict_keys(['created_at', 'id', 'id_str', 'text', 'truncated', 'entities', 'metadata', 'source', 'in_reply_to_status_id', 'in_reply_to_status_id_str', 'in_reply_to_user_id', 'in_reply_to_user_id_str', 'in_reply_to_screen_name', 'user', 'geo', 'coordinates', 'place', 'contributors', 'retweeted_status', 'is_quote_status', 'retweet_count', 'favorite_count', 'favorited', 'retweeted', 'possibly_sensitive', 'lang'])"
      ]
     },
     "execution_count": 10,
     "metadata": {
      "tags": []
     },
     "output_type": "execute_result"
    }
   ],
   "source": [
    "list_of_status_dicts[0].keys()"
   ]
  },
  {
   "cell_type": "code",
   "execution_count": 0,
   "metadata": {
    "colab": {
     "base_uri": "https://localhost:8080/",
     "height": 54
    },
    "colab_type": "code",
    "id": "bj0mbw56KlRr",
    "outputId": "39bc9207-6983-4cb5-8597-1c039d4fd5cd"
   },
   "outputs": [
    {
     "data": {
      "text/plain": [
       "\"RT @LouDobbs: No collusion, so why doesn't Mueller's witch hunt target Obama administration crimes? https://t.co/v2OlTd8Lm4 #FoxNews #MAGA…\""
      ]
     },
     "execution_count": 11,
     "metadata": {
      "tags": []
     },
     "output_type": "execute_result"
    }
   ],
   "source": [
    "list_of_status_dicts[0]['text']"
   ]
  },
  {
   "cell_type": "markdown",
   "metadata": {
    "colab_type": "text",
    "id": "bKJPY3VNKlRt"
   },
   "source": [
    "# Twitter Search (Advance)"
   ]
  },
  {
   "cell_type": "code",
   "execution_count": 0,
   "metadata": {
    "colab": {},
    "colab_type": "code",
    "id": "y95y10oUKlRu"
   },
   "outputs": [],
   "source": [
    "query = 'trump'\n",
    "max_tweets = 555\n",
    "\n",
    "searched_tweets = []\n",
    "last_id = -1\n",
    "while len(searched_tweets) < max_tweets:\n",
    "    count = max_tweets - len(searched_tweets)\n",
    "    try:\n",
    "        new_tweets = api.search(q=query, lang='en', count=count, max_id=str(last_id - 1))\n",
    "        if not new_tweets:\n",
    "            break\n",
    "        searched_tweets.extend(new_tweets)\n",
    "        last_id = new_tweets[-1].id\n",
    "    except tweepy.TweepError as e:\n",
    "        # Depending on TweepError.code, one may want to retry or wait\n",
    "        # to keep things simple, we will give up on an error\n",
    "        break"
   ]
  },
  {
   "cell_type": "code",
   "execution_count": 0,
   "metadata": {
    "colab": {
     "base_uri": "https://localhost:8080/",
     "height": 34
    },
    "colab_type": "code",
    "id": "qSPi5-82KlRw",
    "outputId": "c710246b-898b-4622-e94e-318f9c324d1f"
   },
   "outputs": [
    {
     "data": {
      "text/plain": [
       "555"
      ]
     },
     "execution_count": 13,
     "metadata": {
      "tags": []
     },
     "output_type": "execute_result"
    }
   ],
   "source": [
    "len(searched_tweets)"
   ]
  },
  {
   "cell_type": "code",
   "execution_count": 0,
   "metadata": {
    "colab": {},
    "colab_type": "code",
    "id": "8K_E3z94KlR0"
   },
   "outputs": [],
   "source": [
    "# Convert all the results into a `list of dictionaries`\n",
    "list_of_status_dicts_2 = [x._json for x in searched_tweets]"
   ]
  },
  {
   "cell_type": "code",
   "execution_count": 0,
   "metadata": {
    "colab": {
     "base_uri": "https://localhost:8080/",
     "height": 34
    },
    "colab_type": "code",
    "id": "1RfjEqywKlR2",
    "outputId": "ca573cd0-dedd-47b6-aecd-faaf5d338402"
   },
   "outputs": [
    {
     "data": {
      "text/plain": [
       "555"
      ]
     },
     "execution_count": 15,
     "metadata": {
      "tags": []
     },
     "output_type": "execute_result"
    }
   ],
   "source": [
    "len(list_of_status_dicts_2)"
   ]
  },
  {
   "cell_type": "code",
   "execution_count": 0,
   "metadata": {
    "colab": {
     "base_uri": "https://localhost:8080/",
     "height": 34
    },
    "colab_type": "code",
    "id": "VruiBKEdKlR5",
    "outputId": "5df242d5-e65e-40be-884c-b3819d4edd2b"
   },
   "outputs": [
    {
     "data": {
      "text/plain": [
       "\"If you don't mind your Congressmen, your Senators, and/or favorite celebrities paying hush money, then why are you… https://t.co/m4TdVwQedu\""
      ]
     },
     "execution_count": 16,
     "metadata": {
      "tags": []
     },
     "output_type": "execute_result"
    }
   ],
   "source": [
    "list_of_status_dicts_2[0]['text']"
   ]
  },
  {
   "cell_type": "markdown",
   "metadata": {
    "colab_type": "text",
    "id": "irDAGfXdKlR8"
   },
   "source": [
    "# Twitter Streaming\n",
    "\n",
    "The Streaming APIs give developers low latency access to Twitter’s global stream of Tweet data. A proper implementation of a streaming client will be pushed messages indicating Tweets and other events have occurred, without any of the overhead associated with polling a REST endpoint.\n",
    "\n",
    "More info: https://dev.twitter.com/streaming/overview"
   ]
  },
  {
   "cell_type": "code",
   "execution_count": 0,
   "metadata": {
    "colab": {
     "base_uri": "https://localhost:8080/",
     "height": 122
    },
    "colab_type": "code",
    "id": "9NfrRcFWMZ9W",
    "outputId": "38fb4d56-c812-41fc-8f4b-e6f54ea440a7"
   },
   "outputs": [
    {
     "name": "stdout",
     "output_type": "stream",
     "text": [
      "Go to this URL in a browser: https://accounts.google.com/o/oauth2/auth?client_id=947318989803-6bn6qk8qdgf4n4g3pfee6491hc0brc4i.apps.googleusercontent.com&redirect_uri=urn%3Aietf%3Awg%3Aoauth%3A2.0%3Aoob&scope=email%20https%3A%2F%2Fwww.googleapis.com%2Fauth%2Fdocs.test%20https%3A%2F%2Fwww.googleapis.com%2Fauth%2Fdrive%20https%3A%2F%2Fwww.googleapis.com%2Fauth%2Fdrive.photos.readonly%20https%3A%2F%2Fwww.googleapis.com%2Fauth%2Fpeopleapi.readonly&response_type=code\n",
      "\n",
      "Enter your authorization code:\n",
      "··········\n",
      "Mounted at /content/drive\n"
     ]
    }
   ],
   "source": [
    "# mount google drive\n",
    "from google.colab import drive\n",
    "drive.mount('/content/drive')"
   ]
  },
  {
   "cell_type": "code",
   "execution_count": 0,
   "metadata": {
    "colab": {},
    "colab_type": "code",
    "id": "ZS-A2G0jMtF3"
   },
   "outputs": [],
   "source": [
    "path = '/content/drive/My Drive/BT4222/twitter_streaming_data'"
   ]
  },
  {
   "cell_type": "markdown",
   "metadata": {
    "colab_type": "text",
    "id": "p-EP5teeM56i"
   },
   "source": []
  },
  {
   "cell_type": "code",
   "execution_count": 0,
   "metadata": {
    "colab": {
     "base_uri": "https://localhost:8080/",
     "height": 2465
    },
    "colab_type": "code",
    "id": "e9A1eMJLKlR8",
    "outputId": "a3628730-2002-474f-fabe-43b80c118b94"
   },
   "outputs": [
    {
     "name": "stdout",
     "output_type": "stream",
     "text": [
      "/content/drive/My Drive/BT4222/twitter_data/2018-12-11_12_18_07.528406.txt\n",
      "/content/drive/My Drive/BT4222/twitter_data/2018-12-11_12_18_07.557475.txt\n",
      "/content/drive/My Drive/BT4222/twitter_data/2018-12-11_12_18_08.070762.txt\n",
      "/content/drive/My Drive/BT4222/twitter_data/2018-12-11_12_18_15.466361.txt\n",
      "/content/drive/My Drive/BT4222/twitter_data/2018-12-11_12_18_17.827804.txt\n",
      "/content/drive/My Drive/BT4222/twitter_data/2018-12-11_12_18_19.606082.txt\n",
      "/content/drive/My Drive/BT4222/twitter_data/2018-12-11_12_18_21.670556.txt\n",
      "/content/drive/My Drive/BT4222/twitter_data/2018-12-11_12_18_23.409905.txt\n",
      "/content/drive/My Drive/BT4222/twitter_data/2018-12-11_12_18_33.074334.txt\n",
      "/content/drive/My Drive/BT4222/twitter_data/2018-12-11_12_18_37.732346.txt\n",
      "/content/drive/My Drive/BT4222/twitter_data/2018-12-11_12_18_38.750234.txt\n",
      "/content/drive/My Drive/BT4222/twitter_data/2018-12-11_12_18_42.419748.txt\n",
      "/content/drive/My Drive/BT4222/twitter_data/2018-12-11_12_18_42.923056.txt\n",
      "/content/drive/My Drive/BT4222/twitter_data/2018-12-11_12_18_43.900673.txt\n",
      "/content/drive/My Drive/BT4222/twitter_data/2018-12-11_12_18_45.207166.txt\n",
      "/content/drive/My Drive/BT4222/twitter_data/2018-12-11_12_18_48.354134.txt\n",
      "/content/drive/My Drive/BT4222/twitter_data/2018-12-11_12_18_57.966437.txt\n",
      "/content/drive/My Drive/BT4222/twitter_data/2018-12-11_12_18_58.254516.txt\n",
      "/content/drive/My Drive/BT4222/twitter_data/2018-12-11_12_18_58.574297.txt\n",
      "/content/drive/My Drive/BT4222/twitter_data/2018-12-11_12_18_59.024672.txt\n",
      "/content/drive/My Drive/BT4222/twitter_data/2018-12-11_12_19_05.719717.txt\n",
      "/content/drive/My Drive/BT4222/twitter_data/2018-12-11_12_19_13.071391.txt\n",
      "/content/drive/My Drive/BT4222/twitter_data/2018-12-11_12_19_15.835218.txt\n",
      "/content/drive/My Drive/BT4222/twitter_data/2018-12-11_12_19_18.158708.txt\n",
      "/content/drive/My Drive/BT4222/twitter_data/2018-12-11_12_19_18.988011.txt\n",
      "/content/drive/My Drive/BT4222/twitter_data/2018-12-11_12_19_20.002818.txt\n",
      "/content/drive/My Drive/BT4222/twitter_data/2018-12-11_12_19_22.203210.txt\n",
      "/content/drive/My Drive/BT4222/twitter_data/2018-12-11_12_19_22.717441.txt\n",
      "/content/drive/My Drive/BT4222/twitter_data/2018-12-11_12_19_29.032710.txt\n",
      "/content/drive/My Drive/BT4222/twitter_data/2018-12-11_12_19_34.179590.txt\n",
      "/content/drive/My Drive/BT4222/twitter_data/2018-12-11_12_19_42.480947.txt\n",
      "/content/drive/My Drive/BT4222/twitter_data/2018-12-11_12_19_42.552459.txt\n",
      "/content/drive/My Drive/BT4222/twitter_data/2018-12-11_12_20_04.426393.txt\n",
      "/content/drive/My Drive/BT4222/twitter_data/2018-12-11_12_20_06.554887.txt\n",
      "/content/drive/My Drive/BT4222/twitter_data/2018-12-11_12_20_13.997227.txt\n",
      "/content/drive/My Drive/BT4222/twitter_data/2018-12-11_12_20_17.033096.txt\n",
      "/content/drive/My Drive/BT4222/twitter_data/2018-12-11_12_20_26.198645.txt\n",
      "/content/drive/My Drive/BT4222/twitter_data/2018-12-11_12_20_29.893168.txt\n",
      "/content/drive/My Drive/BT4222/twitter_data/2018-12-11_12_20_42.861973.txt\n",
      "/content/drive/My Drive/BT4222/twitter_data/2018-12-11_12_20_44.555561.txt\n",
      "/content/drive/My Drive/BT4222/twitter_data/2018-12-11_12_20_45.383183.txt\n",
      "/content/drive/My Drive/BT4222/twitter_data/2018-12-11_12_20_46.705802.txt\n",
      "/content/drive/My Drive/BT4222/twitter_data/2018-12-11_12_20_52.684927.txt\n",
      "/content/drive/My Drive/BT4222/twitter_data/2018-12-11_12_20_57.290065.txt\n",
      "/content/drive/My Drive/BT4222/twitter_data/2018-12-11_12_21_10.900439.txt\n",
      "/content/drive/My Drive/BT4222/twitter_data/2018-12-11_12_21_19.649370.txt\n",
      "/content/drive/My Drive/BT4222/twitter_data/2018-12-11_12_21_29.928754.txt\n",
      "/content/drive/My Drive/BT4222/twitter_data/2018-12-11_12_21_31.592871.txt\n",
      "/content/drive/My Drive/BT4222/twitter_data/2018-12-11_12_21_39.552725.txt\n",
      "/content/drive/My Drive/BT4222/twitter_data/2018-12-11_12_21_41.809382.txt\n",
      "/content/drive/My Drive/BT4222/twitter_data/2018-12-11_12_21_41.821512.txt\n",
      "/content/drive/My Drive/BT4222/twitter_data/2018-12-11_12_21_45.546536.txt\n",
      "/content/drive/My Drive/BT4222/twitter_data/2018-12-11_12_21_56.377983.txt\n",
      "/content/drive/My Drive/BT4222/twitter_data/2018-12-11_12_22_05.098943.txt\n",
      "/content/drive/My Drive/BT4222/twitter_data/2018-12-11_12_22_13.443489.txt\n",
      "/content/drive/My Drive/BT4222/twitter_data/2018-12-11_12_22_18.205866.txt\n",
      "/content/drive/My Drive/BT4222/twitter_data/2018-12-11_12_22_25.880138.txt\n",
      "/content/drive/My Drive/BT4222/twitter_data/2018-12-11_12_22_33.256744.txt\n",
      "/content/drive/My Drive/BT4222/twitter_data/2018-12-11_12_22_45.066044.txt\n",
      "/content/drive/My Drive/BT4222/twitter_data/2018-12-11_12_22_55.047609.txt\n",
      "/content/drive/My Drive/BT4222/twitter_data/2018-12-11_12_22_57.196001.txt\n",
      "/content/drive/My Drive/BT4222/twitter_data/2018-12-11_12_22_57.473846.txt\n",
      "/content/drive/My Drive/BT4222/twitter_data/2018-12-11_12_23_02.614154.txt\n",
      "/content/drive/My Drive/BT4222/twitter_data/2018-12-11_12_23_03.010028.txt\n",
      "/content/drive/My Drive/BT4222/twitter_data/2018-12-11_12_23_04.021437.txt\n",
      "/content/drive/My Drive/BT4222/twitter_data/2018-12-11_12_23_04.813822.txt\n",
      "/content/drive/My Drive/BT4222/twitter_data/2018-12-11_12_23_05.984977.txt\n",
      "/content/drive/My Drive/BT4222/twitter_data/2018-12-11_12_23_06.322316.txt\n",
      "/content/drive/My Drive/BT4222/twitter_data/2018-12-11_12_23_07.455489.txt\n",
      "/content/drive/My Drive/BT4222/twitter_data/2018-12-11_12_23_10.562742.txt\n",
      "/content/drive/My Drive/BT4222/twitter_data/2018-12-11_12_23_16.762249.txt\n",
      "/content/drive/My Drive/BT4222/twitter_data/2018-12-11_12_23_18.340842.txt\n",
      "/content/drive/My Drive/BT4222/twitter_data/2018-12-11_12_23_25.194067.txt\n",
      "/content/drive/My Drive/BT4222/twitter_data/2018-12-11_12_23_30.132752.txt\n",
      "/content/drive/My Drive/BT4222/twitter_data/2018-12-11_12_23_35.348066.txt\n",
      "/content/drive/My Drive/BT4222/twitter_data/2018-12-11_12_23_37.297967.txt\n",
      "/content/drive/My Drive/BT4222/twitter_data/2018-12-11_12_23_37.304184.txt\n",
      "/content/drive/My Drive/BT4222/twitter_data/2018-12-11_12_23_42.402931.txt\n",
      "/content/drive/My Drive/BT4222/twitter_data/2018-12-11_12_23_43.054793.txt\n",
      "/content/drive/My Drive/BT4222/twitter_data/2018-12-11_12_23_46.376543.txt\n",
      "/content/drive/My Drive/BT4222/twitter_data/2018-12-11_12_23_54.581102.txt\n",
      "/content/drive/My Drive/BT4222/twitter_data/2018-12-11_12_24_01.524301.txt\n",
      "/content/drive/My Drive/BT4222/twitter_data/2018-12-11_12_24_05.067547.txt\n",
      "/content/drive/My Drive/BT4222/twitter_data/2018-12-11_12_24_12.412262.txt\n",
      "/content/drive/My Drive/BT4222/twitter_data/2018-12-11_12_24_19.848107.txt\n",
      "/content/drive/My Drive/BT4222/twitter_data/2018-12-11_12_24_25.210560.txt\n",
      "/content/drive/My Drive/BT4222/twitter_data/2018-12-11_12_24_29.361171.txt\n",
      "/content/drive/My Drive/BT4222/twitter_data/2018-12-11_12_24_30.062470.txt\n",
      "/content/drive/My Drive/BT4222/twitter_data/2018-12-11_12_24_32.978854.txt\n",
      "/content/drive/My Drive/BT4222/twitter_data/2018-12-11_12_24_33.534324.txt\n",
      "/content/drive/My Drive/BT4222/twitter_data/2018-12-11_12_24_33.791288.txt\n",
      "/content/drive/My Drive/BT4222/twitter_data/2018-12-11_12_24_33.815318.txt\n",
      "/content/drive/My Drive/BT4222/twitter_data/2018-12-11_12_24_40.718242.txt\n",
      "/content/drive/My Drive/BT4222/twitter_data/2018-12-11_12_24_49.020812.txt\n",
      "/content/drive/My Drive/BT4222/twitter_data/2018-12-11_12_24_49.600639.txt\n",
      "/content/drive/My Drive/BT4222/twitter_data/2018-12-11_12_24_59.987074.txt\n",
      "/content/drive/My Drive/BT4222/twitter_data/2018-12-11_12_25_01.307826.txt\n",
      "/content/drive/My Drive/BT4222/twitter_data/2018-12-11_12_25_09.243894.txt\n",
      "/content/drive/My Drive/BT4222/twitter_data/2018-12-11_12_25_11.875051.txt\n",
      "/content/drive/My Drive/BT4222/twitter_data/2018-12-11_12_25_15.738593.txt\n",
      "/content/drive/My Drive/BT4222/twitter_data/2018-12-11_12_25_26.359778.txt\n",
      "/content/drive/My Drive/BT4222/twitter_data/2018-12-11_12_25_34.017721.txt\n",
      "/content/drive/My Drive/BT4222/twitter_data/2018-12-11_12_25_35.815390.txt\n",
      "/content/drive/My Drive/BT4222/twitter_data/2018-12-11_12_25_43.540221.txt\n",
      "/content/drive/My Drive/BT4222/twitter_data/2018-12-11_12_25_50.114015.txt\n",
      "/content/drive/My Drive/BT4222/twitter_data/2018-12-11_12_25_50.653430.txt\n",
      "/content/drive/My Drive/BT4222/twitter_data/2018-12-11_12_25_57.316962.txt\n",
      "/content/drive/My Drive/BT4222/twitter_data/2018-12-11_12_26_14.839459.txt\n",
      "/content/drive/My Drive/BT4222/twitter_data/2018-12-11_12_26_18.157569.txt\n",
      "/content/drive/My Drive/BT4222/twitter_data/2018-12-11_12_26_18.388942.txt\n",
      "/content/drive/My Drive/BT4222/twitter_data/2018-12-11_12_26_23.863528.txt\n",
      "/content/drive/My Drive/BT4222/twitter_data/2018-12-11_12_26_24.627334.txt\n",
      "/content/drive/My Drive/BT4222/twitter_data/2018-12-11_12_26_24.845547.txt\n",
      "/content/drive/My Drive/BT4222/twitter_data/2018-12-11_12_26_26.090025.txt\n",
      "/content/drive/My Drive/BT4222/twitter_data/2018-12-11_12_26_26.512003.txt\n",
      "/content/drive/My Drive/BT4222/twitter_data/2018-12-11_12_26_26.833350.txt\n",
      "/content/drive/My Drive/BT4222/twitter_data/2018-12-11_12_26_29.644779.txt\n",
      "/content/drive/My Drive/BT4222/twitter_data/2018-12-11_12_26_40.759602.txt\n",
      "/content/drive/My Drive/BT4222/twitter_data/2018-12-11_12_26_50.493190.txt\n",
      "/content/drive/My Drive/BT4222/twitter_data/2018-12-11_12_26_54.800347.txt\n",
      "/content/drive/My Drive/BT4222/twitter_data/2018-12-11_12_27_03.725817.txt\n",
      "/content/drive/My Drive/BT4222/twitter_data/2018-12-11_12_27_16.646468.txt\n",
      "/content/drive/My Drive/BT4222/twitter_data/2018-12-11_12_27_16.815841.txt\n",
      "/content/drive/My Drive/BT4222/twitter_data/2018-12-11_12_27_20.091631.txt\n",
      "/content/drive/My Drive/BT4222/twitter_data/2018-12-11_12_27_25.401997.txt\n",
      "/content/drive/My Drive/BT4222/twitter_data/2018-12-11_12_27_25.521674.txt\n",
      "/content/drive/My Drive/BT4222/twitter_data/2018-12-11_12_27_25.621197.txt\n",
      "/content/drive/My Drive/BT4222/twitter_data/2018-12-11_12_27_26.480463.txt\n",
      "/content/drive/My Drive/BT4222/twitter_data/2018-12-11_12_27_31.918049.txt\n",
      "/content/drive/My Drive/BT4222/twitter_data/2018-12-11_12_27_33.373290.txt\n",
      "/content/drive/My Drive/BT4222/twitter_data/2018-12-11_12_27_47.083128.txt\n",
      "/content/drive/My Drive/BT4222/twitter_data/2018-12-11_12_27_48.684244.txt\n",
      "/content/drive/My Drive/BT4222/twitter_data/2018-12-11_12_28_00.356209.txt\n",
      "/content/drive/My Drive/BT4222/twitter_data/2018-12-11_12_28_01.175292.txt\n",
      "/content/drive/My Drive/BT4222/twitter_data/2018-12-11_12_28_01.663772.txt\n",
      "/content/drive/My Drive/BT4222/twitter_data/2018-12-11_12_28_22.960307.txt\n",
      "/content/drive/My Drive/BT4222/twitter_data/2018-12-11_12_28_27.009028.txt\n",
      "/content/drive/My Drive/BT4222/twitter_data/2018-12-11_12_28_28.799555.txt\n",
      "/content/drive/My Drive/BT4222/twitter_data/2018-12-11_12_28_31.966871.txt\n",
      "/content/drive/My Drive/BT4222/twitter_data/2018-12-11_12_28_41.367631.txt\n",
      "/content/drive/My Drive/BT4222/twitter_data/2018-12-11_12_28_42.501104.txt\n",
      "/content/drive/My Drive/BT4222/twitter_data/2018-12-11_12_28_45.108668.txt\n",
      "/content/drive/My Drive/BT4222/twitter_data/2018-12-11_12_28_45.849854.txt\n",
      "/content/drive/My Drive/BT4222/twitter_data/2018-12-11_12_28_48.237780.txt\n"
     ]
    }
   ],
   "source": [
    "import os\n",
    "from datetime import datetime\n",
    "import json\n",
    "import random\n",
    "import re\n",
    "from tweepy.streaming import StreamListener\n",
    "from tweepy import OAuthHandler\n",
    "from tweepy import Stream\n",
    "\n",
    "# This is a basic listener that just prints received tweets to stdout.\n",
    "class StdOutListener(StreamListener):\n",
    "\n",
    "    def on_data(self, json_data):\n",
    "        # print(json_data)\n",
    "        filename = re.sub(r'\\s|\\/|:', r'_', '%s.txt' % str(datetime.now()))\n",
    "        # fileloc = './twitter_stream_data/' + filename\n",
    "        fileloc = os.path.join(path, filename)\n",
    "  \n",
    "        # 1% chance of printing out the file location\n",
    "        if random.randint(0, 100) == 0:\n",
    "            print(fileloc)\n",
    "        # End of if statement.\n",
    "            \n",
    "        with open(fileloc, 'w') as f:\n",
    "            f.write(json_data)\n",
    "        return True\n",
    "\n",
    "    def on_error(self, status):\n",
    "        print(status)\n",
    "\n",
    "\n",
    "if __name__ == '__main__':\n",
    "\n",
    "    # This handles Twitter authetification and the connection to Twitter Streaming API\n",
    "    l = StdOutListener()\n",
    "    auth = OAuthHandler(consumer_key, consumer_secret)\n",
    "    auth.set_access_token(access_token, access_token_secret)\n",
    "    stream = Stream(auth, l)\n",
    "\n",
    "    # This line filter Twitter Streams to capture data by the keywords: 'python', 'javascript', 'ruby'\n",
    "    stream.filter(track=['obama', 'trump', 'clinton'])\n",
    "\n",
    "\"\"\"\n",
    "Note that this is a while loop! It runs until the cows come home!\n",
    "To terminate this infinite loop, press the stop button in the iPython notebook's TOOLBAR.\n",
    "\n",
    "You will see a \"KeyboardInterrupt\" error message -- which is what you are supposed to get.\n",
    "\"\"\""
   ]
  },
  {
   "cell_type": "markdown",
   "metadata": {
    "colab_type": "text",
    "id": "In0Mjc8WKlR_"
   },
   "source": [
    "### You should see the files in the `twitter_stream_data` folder\n",
    "\n",
    "![](./images/twitter_stream_data_folder.png)"
   ]
  },
  {
   "cell_type": "markdown",
   "metadata": {
    "colab_type": "text",
    "id": "JMfzhASvKlSA"
   },
   "source": [
    "# Reading Tweets"
   ]
  },
  {
   "cell_type": "code",
   "execution_count": 0,
   "metadata": {
    "colab": {},
    "colab_type": "code",
    "id": "vV9ZVRg7KlSB"
   },
   "outputs": [],
   "source": [
    "import glob\n",
    "# list_of_files = (glob.glob(\"./twitter_stream_data/*.txt\"))\n",
    "list_of_files = (glob.glob(\"/content/drive/My Drive/BT4222/twitter_data/*txt\"))\n",
    "len(list_of_files)"
   ]
  },
  {
   "cell_type": "code",
   "execution_count": 0,
   "metadata": {
    "colab": {},
    "colab_type": "code",
    "id": "pj6L63CsKlSC"
   },
   "outputs": [],
   "source": [
    "# Read all the TXT files into a \"list of dictionary objects\" called \"tweets_data\"\n",
    "\n",
    "tweets_data = []\n",
    "\n",
    "for fname in list_of_files:\n",
    "    tweets_file = open(fname, \"r\")\n",
    "    for line in tweets_file:\n",
    "        try:\n",
    "            tweet = json.loads(line)\n",
    "            tweets_data.append(tweet)\n",
    "        except:\n",
    "            continue"
   ]
  },
  {
   "cell_type": "markdown",
   "metadata": {
    "colab_type": "text",
    "id": "62t8mNVhKlSE"
   },
   "source": [
    "We can print the number of tweets using the command below."
   ]
  },
  {
   "cell_type": "code",
   "execution_count": 0,
   "metadata": {
    "colab": {},
    "colab_type": "code",
    "id": "fLMTDgF8KlSF",
    "outputId": "09b37d3f-088a-41eb-f8ec-d750529d5618"
   },
   "outputs": [
    {
     "data": {
      "text/plain": [
       "475"
      ]
     },
     "execution_count": 21,
     "metadata": {
      "tags": []
     },
     "output_type": "execute_result"
    }
   ],
   "source": [
    "len(tweets_data)"
   ]
  },
  {
   "cell_type": "code",
   "execution_count": 0,
   "metadata": {
    "colab": {},
    "colab_type": "code",
    "id": "P6NSfIDXKlSI",
    "outputId": "83a0303c-759c-4355-8738-0c6f561551ec"
   },
   "outputs": [
    {
     "data": {
      "text/plain": [
       "'RT @LeakDump: Only one week left until President Trump. Buckle up - Los Angeles Times -  https://t.co/EyPEb9tOjs https://t.co/TeWFBixCKP'"
      ]
     },
     "execution_count": 22,
     "metadata": {
      "tags": []
     },
     "output_type": "execute_result"
    }
   ],
   "source": [
    "tweets_data[0]['text']"
   ]
  },
  {
   "cell_type": "markdown",
   "metadata": {
    "colab_type": "text",
    "id": "OKO405xBKlSL"
   },
   "source": [
    "Next, we will structure the tweets data into a pandas DataFrame to simplify the data manipulation. We will start by creating an empty DataFrame called tweets using the following command."
   ]
  },
  {
   "cell_type": "code",
   "execution_count": 0,
   "metadata": {
    "colab": {},
    "colab_type": "code",
    "id": "zwl1rxuVKlSL"
   },
   "outputs": [],
   "source": [
    "import pandas as pd\n",
    "tweets = pd.DataFrame()"
   ]
  },
  {
   "cell_type": "markdown",
   "metadata": {
    "colab_type": "text",
    "id": "-VoFpLazKlSN"
   },
   "source": [
    "Next, we will add 3 columns to the tweets DataFrame called text, lang, and country. text column contains the tweet, lang column contains the language in which the tweet was written, and country the country from which the tweet was sent."
   ]
  },
  {
   "cell_type": "code",
   "execution_count": 0,
   "metadata": {
    "colab": {},
    "colab_type": "code",
    "id": "8H1l_NMFKlSN"
   },
   "outputs": [],
   "source": [
    "tweets['text'] = list(map(lambda tweet: tweet['text'] if 'text' in tweet else None, tweets_data))\n",
    "tweets['lang'] = list(map(lambda tweet: tweet['lang'] if 'lang' in tweet else None, tweets_data))\n",
    "tweets['country'] = list(map(lambda tweet: tweet['place']['country'] if ('place' in tweet and (tweet['place'] != None)) else None, tweets_data))"
   ]
  },
  {
   "cell_type": "markdown",
   "metadata": {
    "colab_type": "text",
    "id": "RLc4w-QCKlSQ"
   },
   "source": [
    "Preview the **tweets** DataFrame"
   ]
  },
  {
   "cell_type": "code",
   "execution_count": 0,
   "metadata": {
    "colab": {},
    "colab_type": "code",
    "id": "Pzegy7kdKlSR",
    "outputId": "2f22ebf7-0a2b-4c30-8156-1b7bf6ba240f"
   },
   "outputs": [
    {
     "data": {
      "text/html": [
       "<div>\n",
       "<style>\n",
       "    .dataframe thead tr:only-child th {\n",
       "        text-align: right;\n",
       "    }\n",
       "\n",
       "    .dataframe thead th {\n",
       "        text-align: left;\n",
       "    }\n",
       "\n",
       "    .dataframe tbody tr th {\n",
       "        vertical-align: top;\n",
       "    }\n",
       "</style>\n",
       "<table border=\"1\" class=\"dataframe\">\n",
       "  <thead>\n",
       "    <tr style=\"text-align: right;\">\n",
       "      <th></th>\n",
       "      <th>text</th>\n",
       "      <th>lang</th>\n",
       "      <th>country</th>\n",
       "    </tr>\n",
       "  </thead>\n",
       "  <tbody>\n",
       "    <tr>\n",
       "      <th>465</th>\n",
       "      <td>RT @ACLU: We’ve sued Joe Arpaio for denying wo...</td>\n",
       "      <td>en</td>\n",
       "      <td>None</td>\n",
       "    </tr>\n",
       "    <tr>\n",
       "      <th>466</th>\n",
       "      <td>Yes!!!!! https://t.co/OX2IMr2ZU5</td>\n",
       "      <td>und</td>\n",
       "      <td>United States</td>\n",
       "    </tr>\n",
       "    <tr>\n",
       "      <th>467</th>\n",
       "      <td>RT @attackerman: EXCLUSIVE: A senior NSC offic...</td>\n",
       "      <td>en</td>\n",
       "      <td>None</td>\n",
       "    </tr>\n",
       "    <tr>\n",
       "      <th>468</th>\n",
       "      <td>RT @CurlyHeadJackyy: But got the audacity to c...</td>\n",
       "      <td>en</td>\n",
       "      <td>None</td>\n",
       "    </tr>\n",
       "    <tr>\n",
       "      <th>469</th>\n",
       "      <td>RT @ProudResister: 3 Important Things I learne...</td>\n",
       "      <td>en</td>\n",
       "      <td>None</td>\n",
       "    </tr>\n",
       "    <tr>\n",
       "      <th>470</th>\n",
       "      <td>RT @Karencole2007: @TheRealJuIian @HillaryClin...</td>\n",
       "      <td>en</td>\n",
       "      <td>None</td>\n",
       "    </tr>\n",
       "    <tr>\n",
       "      <th>471</th>\n",
       "      <td>RT @AP: BREAKING: Congressional Democrats: As ...</td>\n",
       "      <td>en</td>\n",
       "      <td>None</td>\n",
       "    </tr>\n",
       "    <tr>\n",
       "      <th>472</th>\n",
       "      <td>RT @FAKEMELANlA: Lil Trump https://t.co/xVwdSr...</td>\n",
       "      <td>en</td>\n",
       "      <td>None</td>\n",
       "    </tr>\n",
       "    <tr>\n",
       "      <th>473</th>\n",
       "      <td>RT @PoliticalShort: U.S. District Judge Willia...</td>\n",
       "      <td>en</td>\n",
       "      <td>None</td>\n",
       "    </tr>\n",
       "    <tr>\n",
       "      <th>474</th>\n",
       "      <td>RT @MMFlint: WAIT! WHAT? Trump’s removing Flor...</td>\n",
       "      <td>en</td>\n",
       "      <td>None</td>\n",
       "    </tr>\n",
       "  </tbody>\n",
       "</table>\n",
       "</div>"
      ],
      "text/plain": [
       "                                                  text lang        country\n",
       "465  RT @ACLU: We’ve sued Joe Arpaio for denying wo...   en           None\n",
       "466                   Yes!!!!! https://t.co/OX2IMr2ZU5  und  United States\n",
       "467  RT @attackerman: EXCLUSIVE: A senior NSC offic...   en           None\n",
       "468  RT @CurlyHeadJackyy: But got the audacity to c...   en           None\n",
       "469  RT @ProudResister: 3 Important Things I learne...   en           None\n",
       "470  RT @Karencole2007: @TheRealJuIian @HillaryClin...   en           None\n",
       "471  RT @AP: BREAKING: Congressional Democrats: As ...   en           None\n",
       "472  RT @FAKEMELANlA: Lil Trump https://t.co/xVwdSr...   en           None\n",
       "473  RT @PoliticalShort: U.S. District Judge Willia...   en           None\n",
       "474  RT @MMFlint: WAIT! WHAT? Trump’s removing Flor...   en           None"
      ]
     },
     "execution_count": 25,
     "metadata": {
      "tags": []
     },
     "output_type": "execute_result"
    }
   ],
   "source": [
    "tweets.tail(10)"
   ]
  },
  {
   "cell_type": "code",
   "execution_count": 0,
   "metadata": {
    "colab": {},
    "colab_type": "code",
    "id": "GnsaZU-oKlST",
    "outputId": "d5ec6c0f-210d-4fa9-e3c9-aaa4050adcef"
   },
   "outputs": [
    {
     "data": {
      "text/html": [
       "<div>\n",
       "<style>\n",
       "    .dataframe thead tr:only-child th {\n",
       "        text-align: right;\n",
       "    }\n",
       "\n",
       "    .dataframe thead th {\n",
       "        text-align: left;\n",
       "    }\n",
       "\n",
       "    .dataframe tbody tr th {\n",
       "        vertical-align: top;\n",
       "    }\n",
       "</style>\n",
       "<table border=\"1\" class=\"dataframe\">\n",
       "  <thead>\n",
       "    <tr style=\"text-align: right;\">\n",
       "      <th></th>\n",
       "      <th>text</th>\n",
       "      <th>lang</th>\n",
       "      <th>country</th>\n",
       "    </tr>\n",
       "  </thead>\n",
       "  <tbody>\n",
       "    <tr>\n",
       "      <th>35</th>\n",
       "      <td>leaked footage of trump rehearsing the swearin...</td>\n",
       "      <td>en</td>\n",
       "      <td>United States</td>\n",
       "    </tr>\n",
       "    <tr>\n",
       "      <th>57</th>\n",
       "      <td>It's still if you support Trump I can't suppor...</td>\n",
       "      <td>en</td>\n",
       "      <td>United States</td>\n",
       "    </tr>\n",
       "    <tr>\n",
       "      <th>223</th>\n",
       "      <td>@FoxNews @VP https://t.co/Fkjz3p0A2B</td>\n",
       "      <td>und</td>\n",
       "      <td>United States</td>\n",
       "    </tr>\n",
       "    <tr>\n",
       "      <th>299</th>\n",
       "      <td>Are they dumb because they trust the media, or...</td>\n",
       "      <td>en</td>\n",
       "      <td>Nederland</td>\n",
       "    </tr>\n",
       "    <tr>\n",
       "      <th>368</th>\n",
       "      <td>@NYCRTweets https://t.co/Fkjz3p0A2B</td>\n",
       "      <td>und</td>\n",
       "      <td>United States</td>\n",
       "    </tr>\n",
       "  </tbody>\n",
       "</table>\n",
       "</div>"
      ],
      "text/plain": [
       "                                                  text lang        country\n",
       "35   leaked footage of trump rehearsing the swearin...   en  United States\n",
       "57   It's still if you support Trump I can't suppor...   en  United States\n",
       "223               @FoxNews @VP https://t.co/Fkjz3p0A2B  und  United States\n",
       "299  Are they dumb because they trust the media, or...   en      Nederland\n",
       "368                @NYCRTweets https://t.co/Fkjz3p0A2B  und  United States"
      ]
     },
     "execution_count": 26,
     "metadata": {
      "tags": []
     },
     "output_type": "execute_result"
    }
   ],
   "source": [
    "tweets[  tweets['country'].notnull()  ].head()"
   ]
  },
  {
   "cell_type": "markdown",
   "metadata": {
    "colab_type": "text",
    "id": "9DtnW4W2KlSV"
   },
   "source": [
    "### Top 5 languages and Top 5 countries\n",
    "\n",
    "Next, we will create 2 charts: The first one describing the Top 5 languages in which the tweets were written, and the second the Top 5 countries from which the tweets were sent."
   ]
  },
  {
   "cell_type": "code",
   "execution_count": 0,
   "metadata": {
    "colab": {},
    "colab_type": "code",
    "collapsed": true,
    "id": "9iC_1Yw-KlSW"
   },
   "outputs": [],
   "source": [
    "%matplotlib inline\n",
    "import matplotlib.pyplot as plt\n",
    "plt.style.use('ggplot')\n",
    "\n",
    "tweets_by_lang = tweets['lang'].value_counts()"
   ]
  },
  {
   "cell_type": "code",
   "execution_count": 0,
   "metadata": {
    "colab": {},
    "colab_type": "code",
    "id": "bfoMnCL1KlSZ",
    "outputId": "6f6f6200-1a1c-4b17-f502-19db56d3d1dc"
   },
   "outputs": [
    {
     "data": {
      "text/plain": [
       "<matplotlib.axes._subplots.AxesSubplot at 0x10cfd9ac8>"
      ]
     },
     "execution_count": 28,
     "metadata": {
      "tags": []
     },
     "output_type": "execute_result"
    },
    {
     "data": {
      "image/png": "[encoded data removed]",
      "text/plain": [
       "<matplotlib.figure.Figure at 0x10cfd9128>"
      ]
     },
     "metadata": {
      "tags": []
     },
     "output_type": "display_data"
    }
   ],
   "source": [
    "fig, ax = plt.subplots()\n",
    "ax.tick_params(axis='x', labelsize=15)\n",
    "ax.tick_params(axis='y', labelsize=10)\n",
    "ax.set_xlabel('Languages', fontsize=15)\n",
    "ax.set_ylabel('Number of tweets' , fontsize=15)\n",
    "ax.set_title('Top 5 languages', fontsize=15, fontweight='bold')\n",
    "tweets_by_lang[:5].plot(ax=ax, kind='bar', color='red')"
   ]
  },
  {
   "cell_type": "code",
   "execution_count": 0,
   "metadata": {
    "colab": {},
    "colab_type": "code",
    "id": "NWWOxKtfKlSb",
    "outputId": "bf4bff3b-b860-4894-a749-b7deeacfe3fc"
   },
   "outputs": [
    {
     "data": {
      "text/plain": [
       "<matplotlib.axes._subplots.AxesSubplot at 0x1103b8b70>"
      ]
     },
     "execution_count": 29,
     "metadata": {
      "tags": []
     },
     "output_type": "execute_result"
    },
    {
     "data": {
      "image/png": "[encoded data removed]",
      "text/plain": [
       "<matplotlib.figure.Figure at 0x11039c860>"
      ]
     },
     "metadata": {
      "tags": []
     },
     "output_type": "display_data"
    }
   ],
   "source": [
    "tweets_by_country = tweets['country'].value_counts()\n",
    "\n",
    "fig, ax = plt.subplots()\n",
    "ax.tick_params(axis='x', labelsize=15)\n",
    "ax.tick_params(axis='y', labelsize=10)\n",
    "ax.set_xlabel('Countries', fontsize=15)\n",
    "ax.set_ylabel('Number of tweets' , fontsize=15)\n",
    "ax.set_title('Top 5 countries', fontsize=15, fontweight='bold')\n",
    "tweets_by_country[:5].plot(ax=ax, kind='bar', color='blue')"
   ]
  },
  {
   "cell_type": "markdown",
   "metadata": {
    "colab_type": "text",
    "collapsed": true,
    "id": "tnX8sFAeKlSf"
   },
   "source": [
    "# Mining the Tweets\n",
    "\n",
    "Our main goals in these text mining tasks are: compare the popularity of Obama, Trump and Clinton and to retrieve links. We will do the following steps:\n",
    "\n",
    "- We will add tags to our tweets DataFrame in order to be able to manipualte the data easily.\n",
    "- Extract links from tweets"
   ]
  },
  {
   "cell_type": "markdown",
   "metadata": {
    "colab_type": "text",
    "id": "cb8scXmIKlSg"
   },
   "source": [
    "First, we will create a function that checks if a specific keyword is present in a text. We will do this by using regular expressions. Python provides a library for regular expression called re. We will start by importing this library"
   ]
  },
  {
   "cell_type": "code",
   "execution_count": 0,
   "metadata": {
    "colab": {},
    "colab_type": "code",
    "id": "fUpR8QreKlSg"
   },
   "outputs": [],
   "source": [
    "import re"
   ]
  },
  {
   "cell_type": "markdown",
   "metadata": {
    "colab_type": "text",
    "id": "5dPM7pKgKlSi"
   },
   "source": [
    "Next we will create a function called word_in_text(word, text). This function return True if a word is found in text, otherwise it returns False."
   ]
  },
  {
   "cell_type": "code",
   "execution_count": 0,
   "metadata": {
    "colab": {},
    "colab_type": "code",
    "id": "C4dFwbGRKlSj"
   },
   "outputs": [],
   "source": [
    "def word_in_text(word, text):\n",
    "    if word and text:\n",
    "        word = word.lower()\n",
    "        text = text.lower()\n",
    "        match = re.search(word, text)\n",
    "        if match:\n",
    "            return True\n",
    "    return False"
   ]
  },
  {
   "cell_type": "markdown",
   "metadata": {
    "colab_type": "text",
    "id": "xe419ohDKlSk"
   },
   "source": [
    "Next, we will add 3 columns to our tweets DataFrame."
   ]
  },
  {
   "cell_type": "code",
   "execution_count": 0,
   "metadata": {
    "colab": {},
    "colab_type": "code",
    "id": "oXfbJcTAKlSl"
   },
   "outputs": [],
   "source": [
    "tweets['obama'] = tweets['text'].apply(lambda tweet: word_in_text('obama', tweet))\n",
    "tweets['trump'] = tweets['text'].apply(lambda tweet: word_in_text('trump', tweet))\n",
    "tweets['clinton'] = tweets['text'].apply(lambda tweet: word_in_text('clinton', tweet))"
   ]
  },
  {
   "cell_type": "markdown",
   "metadata": {
    "colab_type": "text",
    "id": "QIYu0-uTKlSm"
   },
   "source": [
    "The modified DataFrame looks like this."
   ]
  },
  {
   "cell_type": "code",
   "execution_count": 0,
   "metadata": {
    "colab": {},
    "colab_type": "code",
    "id": "X9ZzEqn_KlSn",
    "outputId": "f1bc1035-f03d-445c-fe9e-998cf94627f1"
   },
   "outputs": [
    {
     "data": {
      "text/html": [
       "<div>\n",
       "<style>\n",
       "    .dataframe thead tr:only-child th {\n",
       "        text-align: right;\n",
       "    }\n",
       "\n",
       "    .dataframe thead th {\n",
       "        text-align: left;\n",
       "    }\n",
       "\n",
       "    .dataframe tbody tr th {\n",
       "        vertical-align: top;\n",
       "    }\n",
       "</style>\n",
       "<table border=\"1\" class=\"dataframe\">\n",
       "  <thead>\n",
       "    <tr style=\"text-align: right;\">\n",
       "      <th></th>\n",
       "      <th>text</th>\n",
       "      <th>lang</th>\n",
       "      <th>country</th>\n",
       "      <th>obama</th>\n",
       "      <th>trump</th>\n",
       "      <th>clinton</th>\n",
       "    </tr>\n",
       "  </thead>\n",
       "  <tbody>\n",
       "    <tr>\n",
       "      <th>0</th>\n",
       "      <td>RT @LeakDump: Only one week left until Preside...</td>\n",
       "      <td>en</td>\n",
       "      <td>None</td>\n",
       "      <td>False</td>\n",
       "      <td>True</td>\n",
       "      <td>False</td>\n",
       "    </tr>\n",
       "    <tr>\n",
       "      <th>1</th>\n",
       "      <td>RT @TrumpRelease: Alec Baldwin's Donald Trump ...</td>\n",
       "      <td>en</td>\n",
       "      <td>None</td>\n",
       "      <td>False</td>\n",
       "      <td>True</td>\n",
       "      <td>False</td>\n",
       "    </tr>\n",
       "    <tr>\n",
       "      <th>2</th>\n",
       "      <td>RT @SupaSaiyanEEDEE: THINK.\\nIf the Vice Presi...</td>\n",
       "      <td>en</td>\n",
       "      <td>None</td>\n",
       "      <td>False</td>\n",
       "      <td>False</td>\n",
       "      <td>False</td>\n",
       "    </tr>\n",
       "    <tr>\n",
       "      <th>3</th>\n",
       "      <td>RT @JoyAnnReid: Note that WN Bannon and Kushne...</td>\n",
       "      <td>en</td>\n",
       "      <td>None</td>\n",
       "      <td>False</td>\n",
       "      <td>False</td>\n",
       "      <td>False</td>\n",
       "    </tr>\n",
       "    <tr>\n",
       "      <th>4</th>\n",
       "      <td>RT @mattmfm: In their just released 2017 repor...</td>\n",
       "      <td>en</td>\n",
       "      <td>None</td>\n",
       "      <td>False</td>\n",
       "      <td>True</td>\n",
       "      <td>False</td>\n",
       "    </tr>\n",
       "  </tbody>\n",
       "</table>\n",
       "</div>"
      ],
      "text/plain": [
       "                                                text lang country  obama  \\\n",
       "0  RT @LeakDump: Only one week left until Preside...   en    None  False   \n",
       "1  RT @TrumpRelease: Alec Baldwin's Donald Trump ...   en    None  False   \n",
       "2  RT @SupaSaiyanEEDEE: THINK.\\nIf the Vice Presi...   en    None  False   \n",
       "3  RT @JoyAnnReid: Note that WN Bannon and Kushne...   en    None  False   \n",
       "4  RT @mattmfm: In their just released 2017 repor...   en    None  False   \n",
       "\n",
       "   trump  clinton  \n",
       "0   True    False  \n",
       "1   True    False  \n",
       "2  False    False  \n",
       "3  False    False  \n",
       "4   True    False  "
      ]
     },
     "execution_count": 33,
     "metadata": {
      "tags": []
     },
     "output_type": "execute_result"
    }
   ],
   "source": [
    "tweets.head()"
   ]
  },
  {
   "cell_type": "markdown",
   "metadata": {
    "colab_type": "text",
    "id": "16eKylUYKlSp"
   },
   "source": [
    "We can calculate the number of tweets for each person as follows:"
   ]
  },
  {
   "cell_type": "code",
   "execution_count": 0,
   "metadata": {
    "colab": {},
    "colab_type": "code",
    "id": "jdNInDp0KlSq",
    "outputId": "4b71fde2-748c-44af-87bd-4339be6b77b3"
   },
   "outputs": [
    {
     "name": "stdout",
     "output_type": "stream",
     "text": [
      "32\n",
      "294\n",
      "18\n"
     ]
    }
   ],
   "source": [
    "print(tweets['obama'].value_counts()[True])\n",
    "print(tweets['trump'].value_counts()[True])\n",
    "print(tweets['clinton'].value_counts()[True])"
   ]
  },
  {
   "cell_type": "markdown",
   "metadata": {
    "colab_type": "text",
    "id": "zcg6yILwKlSw"
   },
   "source": [
    "We can make a simple comparaison chart by executing the following:"
   ]
  },
  {
   "cell_type": "code",
   "execution_count": 0,
   "metadata": {
    "colab": {},
    "colab_type": "code",
    "id": "wn2mzODwKlSw",
    "outputId": "dce2e4cd-b3f7-4ea0-ba8e-b579b559da22"
   },
   "outputs": [
    {
     "data": {
      "image/png": "[encoded data removed]",
      "text/plain": [
       "<matplotlib.figure.Figure at 0x10c817898>"
      ]
     },
     "metadata": {
      "tags": []
     },
     "output_type": "display_data"
    }
   ],
   "source": [
    "politicians = ['obama', 'trump', 'clinton']\n",
    "tweets_by_politicians = [tweets['obama'].value_counts()[True], tweets['trump'].value_counts()[True], tweets['clinton'].value_counts()[True]]\n",
    "\n",
    "x_pos = list(range(len(politicians)))\n",
    "width = 0.8\n",
    "fig, ax = plt.subplots()\n",
    "plt.bar(x_pos, tweets_by_politicians, width, alpha=1, color='g')\n",
    "\n",
    "# Setting axis labels and ticks\n",
    "ax.set_ylabel('Number of tweets', fontsize=15)\n",
    "ax.set_title('Ranking: Obama vs. Trump vs. Clinton', fontsize=10, fontweight='bold')\n",
    "ax.set_xticks([p + 0.4 * width for p in x_pos])\n",
    "ax.set_xticklabels(politicians)\n",
    "plt.grid()"
   ]
  },
  {
   "cell_type": "markdown",
   "metadata": {
    "colab_type": "text",
    "id": "dcZSlPKsKlS0"
   },
   "source": [
    "# Extracting links from the tweets\n",
    "\n",
    "Now, we want to retrieve links in the tweets. We will start by creating a function that uses regular expressions for retrieving link that start with **\"http://\"** or **\"https://\"** from a text. This function will return the url if found, otherwise it returns an empty string."
   ]
  },
  {
   "cell_type": "code",
   "execution_count": 0,
   "metadata": {
    "colab": {},
    "colab_type": "code",
    "collapsed": true,
    "id": "BKaRb0P0KlS1"
   },
   "outputs": [],
   "source": [
    "def extract_link(text):\n",
    "    try:\n",
    "        regex = r'https?://[^\\s<>\"]+|www\\.[^\\s<>\"]+'\n",
    "        match = re.search(regex, text)\n",
    "        if match:\n",
    "            return match.group()\n",
    "        return ''\n",
    "    except:\n",
    "        return ''"
   ]
  },
  {
   "cell_type": "markdown",
   "metadata": {
    "colab_type": "text",
    "id": "4aXG2IiiKlS2"
   },
   "source": [
    "Next, we will add a column called link to our tweets DataFrame. This column will contain the urls information."
   ]
  },
  {
   "cell_type": "code",
   "execution_count": 0,
   "metadata": {
    "colab": {},
    "colab_type": "code",
    "collapsed": true,
    "id": "_wKIU8XLKlS2"
   },
   "outputs": [],
   "source": [
    "tweets['link'] = tweets['text'].apply(lambda tweet: extract_link(tweet))"
   ]
  },
  {
   "cell_type": "markdown",
   "metadata": {
    "colab_type": "text",
    "id": "riDCaiTeKlS4"
   },
   "source": [
    "The modified DataFrame looks like this."
   ]
  },
  {
   "cell_type": "code",
   "execution_count": 0,
   "metadata": {
    "colab": {},
    "colab_type": "code",
    "id": "gbj9J53zKlS6",
    "outputId": "56bee8e6-7b34-4b93-8ecc-7ab30a919f76",
    "scrolled": true
   },
   "outputs": [
    {
     "data": {
      "text/html": [
       "<div>\n",
       "<style>\n",
       "    .dataframe thead tr:only-child th {\n",
       "        text-align: right;\n",
       "    }\n",
       "\n",
       "    .dataframe thead th {\n",
       "        text-align: left;\n",
       "    }\n",
       "\n",
       "    .dataframe tbody tr th {\n",
       "        vertical-align: top;\n",
       "    }\n",
       "</style>\n",
       "<table border=\"1\" class=\"dataframe\">\n",
       "  <thead>\n",
       "    <tr style=\"text-align: right;\">\n",
       "      <th></th>\n",
       "      <th>text</th>\n",
       "      <th>lang</th>\n",
       "      <th>country</th>\n",
       "      <th>obama</th>\n",
       "      <th>trump</th>\n",
       "      <th>clinton</th>\n",
       "      <th>link</th>\n",
       "    </tr>\n",
       "  </thead>\n",
       "  <tbody>\n",
       "    <tr>\n",
       "      <th>0</th>\n",
       "      <td>RT @LeakDump: Only one week left until Preside...</td>\n",
       "      <td>en</td>\n",
       "      <td>None</td>\n",
       "      <td>False</td>\n",
       "      <td>True</td>\n",
       "      <td>False</td>\n",
       "      <td>https://t.co/EyPEb9tOjs</td>\n",
       "    </tr>\n",
       "    <tr>\n",
       "      <th>1</th>\n",
       "      <td>RT @TrumpRelease: Alec Baldwin's Donald Trump ...</td>\n",
       "      <td>en</td>\n",
       "      <td>None</td>\n",
       "      <td>False</td>\n",
       "      <td>True</td>\n",
       "      <td>False</td>\n",
       "      <td>https://t.co/HkSM6hjeHO</td>\n",
       "    </tr>\n",
       "    <tr>\n",
       "      <th>2</th>\n",
       "      <td>RT @SupaSaiyanEEDEE: THINK.\\nIf the Vice Presi...</td>\n",
       "      <td>en</td>\n",
       "      <td>None</td>\n",
       "      <td>False</td>\n",
       "      <td>False</td>\n",
       "      <td>False</td>\n",
       "      <td></td>\n",
       "    </tr>\n",
       "    <tr>\n",
       "      <th>3</th>\n",
       "      <td>RT @JoyAnnReid: Note that WN Bannon and Kushne...</td>\n",
       "      <td>en</td>\n",
       "      <td>None</td>\n",
       "      <td>False</td>\n",
       "      <td>False</td>\n",
       "      <td>False</td>\n",
       "      <td></td>\n",
       "    </tr>\n",
       "    <tr>\n",
       "      <th>4</th>\n",
       "      <td>RT @mattmfm: In their just released 2017 repor...</td>\n",
       "      <td>en</td>\n",
       "      <td>None</td>\n",
       "      <td>False</td>\n",
       "      <td>True</td>\n",
       "      <td>False</td>\n",
       "      <td></td>\n",
       "    </tr>\n",
       "  </tbody>\n",
       "</table>\n",
       "</div>"
      ],
      "text/plain": [
       "                                                text lang country  obama  \\\n",
       "0  RT @LeakDump: Only one week left until Preside...   en    None  False   \n",
       "1  RT @TrumpRelease: Alec Baldwin's Donald Trump ...   en    None  False   \n",
       "2  RT @SupaSaiyanEEDEE: THINK.\\nIf the Vice Presi...   en    None  False   \n",
       "3  RT @JoyAnnReid: Note that WN Bannon and Kushne...   en    None  False   \n",
       "4  RT @mattmfm: In their just released 2017 repor...   en    None  False   \n",
       "\n",
       "   trump  clinton                     link  \n",
       "0   True    False  https://t.co/EyPEb9tOjs  \n",
       "1   True    False  https://t.co/HkSM6hjeHO  \n",
       "2  False    False                           \n",
       "3  False    False                           \n",
       "4   True    False                           "
      ]
     },
     "execution_count": 38,
     "metadata": {
      "tags": []
     },
     "output_type": "execute_result"
    }
   ],
   "source": [
    "tweets.head()"
   ]
  },
  {
   "cell_type": "code",
   "execution_count": 0,
   "metadata": {
    "colab": {},
    "colab_type": "code",
    "id": "MCgxFscLKlS8",
    "outputId": "8fcc93d8-9bcd-45c1-f29e-feece8788d98"
   },
   "outputs": [
    {
     "data": {
      "text/plain": [
       "(475, 7)"
      ]
     },
     "execution_count": 39,
     "metadata": {
      "tags": []
     },
     "output_type": "execute_result"
    }
   ],
   "source": [
    "tweets.shape"
   ]
  },
  {
   "cell_type": "markdown",
   "metadata": {
    "colab_type": "text",
    "id": "NorUIPWOKlS_"
   },
   "source": [
    "Next, we will create a new DataFrame called **tweets_with_link**. \n",
    "This DataFrame is a subset of tweets DataFrame and contains all tweets that have a link."
   ]
  },
  {
   "cell_type": "code",
   "execution_count": 0,
   "metadata": {
    "colab": {},
    "colab_type": "code",
    "collapsed": true,
    "id": "3yIiZJMrKlS_"
   },
   "outputs": [],
   "source": [
    "tweets_with_link = tweets[ tweets['link'] != ''].copy()"
   ]
  },
  {
   "cell_type": "code",
   "execution_count": 0,
   "metadata": {
    "colab": {},
    "colab_type": "code",
    "id": "8etrEi-ZKlTC",
    "outputId": "96a2a8ef-d8d3-45d2-ed09-08615bf9e303"
   },
   "outputs": [
    {
     "data": {
      "text/html": [
       "<div>\n",
       "<style>\n",
       "    .dataframe thead tr:only-child th {\n",
       "        text-align: right;\n",
       "    }\n",
       "\n",
       "    .dataframe thead th {\n",
       "        text-align: left;\n",
       "    }\n",
       "\n",
       "    .dataframe tbody tr th {\n",
       "        vertical-align: top;\n",
       "    }\n",
       "</style>\n",
       "<table border=\"1\" class=\"dataframe\">\n",
       "  <thead>\n",
       "    <tr style=\"text-align: right;\">\n",
       "      <th></th>\n",
       "      <th>text</th>\n",
       "      <th>lang</th>\n",
       "      <th>country</th>\n",
       "      <th>obama</th>\n",
       "      <th>trump</th>\n",
       "      <th>clinton</th>\n",
       "      <th>link</th>\n",
       "    </tr>\n",
       "  </thead>\n",
       "  <tbody>\n",
       "    <tr>\n",
       "      <th>0</th>\n",
       "      <td>RT @LeakDump: Only one week left until Preside...</td>\n",
       "      <td>en</td>\n",
       "      <td>None</td>\n",
       "      <td>False</td>\n",
       "      <td>True</td>\n",
       "      <td>False</td>\n",
       "      <td>https://t.co/EyPEb9tOjs</td>\n",
       "    </tr>\n",
       "    <tr>\n",
       "      <th>1</th>\n",
       "      <td>RT @TrumpRelease: Alec Baldwin's Donald Trump ...</td>\n",
       "      <td>en</td>\n",
       "      <td>None</td>\n",
       "      <td>False</td>\n",
       "      <td>True</td>\n",
       "      <td>False</td>\n",
       "      <td>https://t.co/HkSM6hjeHO</td>\n",
       "    </tr>\n",
       "    <tr>\n",
       "      <th>7</th>\n",
       "      <td>I liked a @YouTube video from @markdice https:...</td>\n",
       "      <td>en</td>\n",
       "      <td>None</td>\n",
       "      <td>False</td>\n",
       "      <td>True</td>\n",
       "      <td>False</td>\n",
       "      <td>https://t.co/nOKnTA7Ch3</td>\n",
       "    </tr>\n",
       "  </tbody>\n",
       "</table>\n",
       "</div>"
      ],
      "text/plain": [
       "                                                text lang country  obama  \\\n",
       "0  RT @LeakDump: Only one week left until Preside...   en    None  False   \n",
       "1  RT @TrumpRelease: Alec Baldwin's Donald Trump ...   en    None  False   \n",
       "7  I liked a @YouTube video from @markdice https:...   en    None  False   \n",
       "\n",
       "   trump  clinton                     link  \n",
       "0   True    False  https://t.co/EyPEb9tOjs  \n",
       "1   True    False  https://t.co/HkSM6hjeHO  \n",
       "7   True    False  https://t.co/nOKnTA7Ch3  "
      ]
     },
     "execution_count": 41,
     "metadata": {
      "tags": []
     },
     "output_type": "execute_result"
    }
   ],
   "source": [
    "tweets_with_link.head(3)"
   ]
  },
  {
   "cell_type": "code",
   "execution_count": 0,
   "metadata": {
    "colab": {},
    "colab_type": "code",
    "id": "cY5gNpyqKlTF",
    "outputId": "16d7ea3a-1116-4177-b83e-51586a180eb9"
   },
   "outputs": [
    {
     "data": {
      "text/plain": [
       "(245, 7)"
      ]
     },
     "execution_count": 42,
     "metadata": {
      "tags": []
     },
     "output_type": "execute_result"
    }
   ],
   "source": [
    "tweets_with_link.shape"
   ]
  },
  {
   "cell_type": "markdown",
   "metadata": {
    "colab_type": "text",
    "id": "A58fc12yKlTH"
   },
   "source": [
    "We can now print out all links for **obama**, **trump**, and **clinton** by executing the commands below:"
   ]
  },
  {
   "cell_type": "code",
   "execution_count": 0,
   "metadata": {
    "colab": {},
    "colab_type": "code",
    "id": "sIOH6mUSKlTH",
    "outputId": "86246c7b-f56a-45ac-ac82-a9b3df74d17d",
    "scrolled": false
   },
   "outputs": [
    {
     "name": "stdout",
     "output_type": "stream",
     "text": [
      "26     https://t.co/fNAy5Xwte2\n",
      "40     https://t.co/ZsxNhYAuYk\n",
      "84     https://t.co/NNRQoa11q2\n",
      "86     https://t.co/JRkcr38pgu\n",
      "160    https://t.co/CcqLk3jgyp\n",
      "213         https://t.co/tcKU…\n",
      "243    https://t.co/IyY0jnPXuZ\n",
      "249    https://t.co/qRSvfM7w4p\n",
      "335    https://t.co/IyY0jnPXuZ\n",
      "361    https://t.co/IiACZ5TCCS\n",
      "383    https://t.co/BAdanVTNv0\n",
      "397              https://t.co…\n",
      "408    https://t.co/tEZXlOSvbt\n",
      "436    https://t.co/DM54OkPdtd\n",
      "445    https://t.co/27umkCX41W\n",
      "Name: link, dtype: object\n",
      "0       https://t.co/EyPEb9tOjs\n",
      "1       https://t.co/HkSM6hjeHO\n",
      "7       https://t.co/nOKnTA7Ch3\n",
      "8       https://t.co/HkSM6hjeHO\n",
      "10      https://t.co/HkSM6hjeHO\n",
      "12      https://t.co/HkSM6hjeHO\n",
      "13      https://t.co/HkSM6hjeHO\n",
      "14      https://t.co/L7N6LWU7cI\n",
      "15      https://t.co/HkSM6hjeHO\n",
      "17      https://t.co/pWHYgWIF4Q\n",
      "24      https://t.co/LIF3d5LdNV\n",
      "27      https://t.co/EyPEb9tOjs\n",
      "30      https://t.co/HkSM6hjeHO\n",
      "31      https://t.co/HkSM6hjeHO\n",
      "34      https://t.co/HkSM6hjeHO\n",
      "35      https://t.co/9ao7F04U5S\n",
      "36      https://t.co/HkSM6hjeHO\n",
      "42      https://t.co/EyPEb9tOjs\n",
      "43      https://t.co/JOyMKcpnCE\n",
      "44      https://t.co/HkSM6hjeHO\n",
      "45                  https://t.…\n",
      "48      https://t.co/HkSM6hjeHO\n",
      "49      https://t.co/HkSM6hjeHO\n",
      "54      https://t.co/h70YPknNLH\n",
      "56               https://t.co/…\n",
      "60      https://t.co/6nplWEb3Qc\n",
      "61      https://t.co/HkSM6hjeHO\n",
      "64      https://t.co/EyPEb9tOjs\n",
      "65      https://t.co/u2DjygM4fA\n",
      "67      https://t.co/eoG81udBfG\n",
      "                 ...           \n",
      "358     https://t.co/eqOiKNl9bR\n",
      "361     https://t.co/IiACZ5TCCS\n",
      "369     https://t.co/aVTV3UmbWV\n",
      "378     https://t.co/zTSEapCTp1\n",
      "379     https://t.co/HAJDde7zZQ\n",
      "381    https://t.co/0UmSXLLmtg…\n",
      "388     https://t.co/JCD0t8LPhG\n",
      "390     https://t.co/l231tdqxAi\n",
      "393     https://t.co/PLqcaWEDWz\n",
      "395     https://t.co/jzXaWxTuV2\n",
      "399     https://t.co/sW16kiel67\n",
      "402     https://t.co/xKdRH7Lxv7\n",
      "404     https://t.co/INZx40erAy\n",
      "405     https://t.co/LkW5ye50r7\n",
      "408     https://t.co/tEZXlOSvbt\n",
      "415     https://t.co/iYvaKmtmxX\n",
      "417     https://t.co/csuv29E2rR\n",
      "420     https://t.co/hQRWGdyrNh\n",
      "423                   https://…\n",
      "425     https://t.co/NjFiQDD2zx\n",
      "429         https://t.co/fpRyV…\n",
      "443     https://t.co/qAoUPptHIj\n",
      "444     https://t.co/RSQ3Xuum9u\n",
      "448     https://t.co/XkAAk6Ij8A\n",
      "451     https://t.co/07XbF6cFdy\n",
      "457     https://t.co/sFxi3QLJMR\n",
      "459     https://t.co/8s4xQr5qZA\n",
      "462     https://t.co/68nEphpmn3\n",
      "471                   https://…\n",
      "472     https://t.co/xVwdSrJML7\n",
      "Name: link, Length: 146, dtype: object\n",
      "111    https://t.co/r2DpcFp4f9\n",
      "228    https://t.co/hvHwUbVRCn\n",
      "251    https://t.co/MvbXfBg4pL\n",
      "295    https://t.co/9xSWIeKLSm\n",
      "320    https://t.co/Ldr0vMbcph\n",
      "419    https://t.co/Vf355RlcKw\n",
      "Name: link, dtype: object\n"
     ]
    }
   ],
   "source": [
    "print(tweets_with_link[tweets_with_link['obama']   == True]['link'])\n",
    "print(tweets_with_link[tweets_with_link['trump']   == True]['link'])\n",
    "print(tweets_with_link[tweets_with_link['clinton'] == True]['link'])"
   ]
  },
  {
   "cell_type": "code",
   "execution_count": 0,
   "metadata": {
    "colab": {},
    "colab_type": "code",
    "collapsed": true,
    "id": "Gmmx8JLaKlTJ"
   },
   "outputs": [],
   "source": [
    "# Now say we want to read one of the links above, https://t.co/oua32nXu8W\n",
    "\n",
    "# Read the HTML source of the URL: https://t.co/oua32nXu8W\n",
    "import urllib.request\n",
    "url = 'https://t.co/oua32nXu8W'\n",
    "request = urllib.request.Request(url)\n",
    "response = urllib.request.urlopen(request)\n",
    "html = response.read()\n",
    "try:\n",
    "    html = html.decode('utf-8')\n",
    "except:\n",
    "    html = html.decode('unicode_escape')\n",
    "\n",
    "# Import BeautifulSoup\n",
    "from bs4 import BeautifulSoup\n",
    "soup = BeautifulSoup(html, 'html.parser')"
   ]
  },
  {
   "cell_type": "code",
   "execution_count": 0,
   "metadata": {
    "colab": {},
    "colab_type": "code",
    "id": "vgz8vo8EKlTM",
    "outputId": "d219c6d0-35d3-4991-f0d4-fe1a7023d717"
   },
   "outputs": [
    {
     "data": {
      "text/plain": [
       "<title>Man Charged for Threatening to Kill Trump Is Clinton 'Close Family Friend'</title>"
      ]
     },
     "execution_count": 45,
     "metadata": {
      "tags": []
     },
     "output_type": "execute_result"
    }
   ],
   "source": [
    "# See the title of the HTML document\n",
    "\n",
    "soup.title"
   ]
  },
  {
   "cell_type": "code",
   "execution_count": 0,
   "metadata": {
    "colab": {},
    "colab_type": "code",
    "id": "6M8PtvjKKlTP",
    "outputId": "8e0d998d-ed30-4f2a-eafb-813ec15600d2"
   },
   "outputs": [
    {
     "name": "stdout",
     "output_type": "stream",
     "text": [
      "Photo by Wendy Maeda/The Boston Globe via Getty Images\n",
      "The Florida man who was arrested on Tuesday for threatening the life of President-elect Donald Trump on Twitter is a close family friend of former President Bill Clinton and his wife, Hillary Clinton.\n",
      "Hillary Clinton gave the eulogy of Puopolo's mother, Sonia, who died during the attack on the World Trade Center on September 11, 2001.\n",
      "Clinton referred to him as \"Dom Jr.'s latest computer wizardry\" during the speech about his mother.\n",
      "He has also given $20,000 to the Democratic National Committee.\n",
      "Puopolo Jr. is currently being held without bail for a tweet where he said he was going to show up at the inauguration and assassinate the president-elect.\n",
      "The tweet said, \"This is the 16th of January 2017, I will be at the review/ inauguration and I will kill President Trump, President elect Trump today.\"\n",
      "The family ties stretch from Puopolo Jr. to his sister, Sonia Tita Puopolo.\n",
      "Hillary Rodman Clinton sits with the Puopolo family during a memorial service for Democratic activist Sonia Puopolo. Puopolo's husband Dominic and Dominic, Jr. are at the top. Photo by Wendy Maeda/The Boston Globe via Getty Images\n",
      "Her Facebook page contains photos of her and Hillary.\n"
     ]
    }
   ],
   "source": [
    "# Extract all the paragraphs (p) and print out the content\n",
    "\n",
    "for paragraph in soup.find_all('p'):\n",
    "    if paragraph.string is not None:\n",
    "        print(paragraph.string)"
   ]
  },
  {
   "cell_type": "markdown",
   "metadata": {
    "colab_type": "text",
    "id": "tJ3seeqiKlTQ"
   },
   "source": [
    "# Conclusion\n",
    "\n",
    "In this tutorial, we covered many techniques used in text mining. The code here can be:\n",
    "1. modified to create a deeper analysis, or  \n",
    "2. adapted to another use case. "
   ]
  },
  {
   "cell_type": "markdown",
   "metadata": {
    "colab_type": "text",
    "id": "OE57ugqVKlTR"
   },
   "source": [
    "# References\n",
    "- http://en.wikipedia.org/wiki/Text_mining\n",
    "- http://en.wikipedia.org/wiki/Word-sense_disambiguation\n",
    "- http://en.wikipedia.org/wiki/Regular_expression"
   ]
  },
  {
   "cell_type": "code",
   "execution_count": 0,
   "metadata": {
    "colab": {},
    "colab_type": "code",
    "collapsed": true,
    "id": "458ewyp3KlTR"
   },
   "outputs": [],
   "source": []
  },
  {
   "cell_type": "code",
   "execution_count": 0,
   "metadata": {
    "colab": {},
    "colab_type": "code",
    "collapsed": true,
    "id": "A9U3OXv8KlTS"
   },
   "outputs": [],
   "source": []
  },
  {
   "cell_type": "code",
   "execution_count": 0,
   "metadata": {
    "colab": {},
    "colab_type": "code",
    "collapsed": true,
    "id": "1TjuI8DqKlTT"
   },
   "outputs": [],
   "source": []
  },
  {
   "cell_type": "code",
   "execution_count": 0,
   "metadata": {
    "colab": {},
    "colab_type": "code",
    "collapsed": true,
    "id": "fLXxjPwqKlTU"
   },
   "outputs": [],
   "source": []
  },
  {
   "cell_type": "code",
   "execution_count": 0,
   "metadata": {
    "colab": {},
    "colab_type": "code",
    "collapsed": true,
    "id": "Y75-tiGQKlTY"
   },
   "outputs": [],
   "source": []
  },
  {
   "cell_type": "code",
   "execution_count": 0,
   "metadata": {
    "colab": {},
    "colab_type": "code",
    "collapsed": true,
    "id": "FceCet76KlTZ"
   },
   "outputs": [],
   "source": []
  }
 ],
 "metadata": {
  "colab": {
   "collapsed_sections": [
    "irDAGfXdKlR8",
    "In0Mjc8WKlR_",
    "JMfzhASvKlSA",
    "9DtnW4W2KlSV",
    "dcZSlPKsKlS0",
    "tJ3seeqiKlTQ",
    "OE57ugqVKlTR"
   ],
   "name": "02_Getting_Data_from_Twitter.ipynb",
   "provenance": []
  },
  "kernelspec": {
   "display_name": "Python 3",
   "language": "python",
   "name": "python3"
  },
  "language_info": {
   "codemirror_mode": {
    "name": "ipython",
    "version": 3
   },
   "file_extension": ".py",
   "mimetype": "text/x-python",
   "name": "python",
   "nbconvert_exporter": "python",
   "pygments_lexer": "ipython3",
   "version": "3.6.5"
  }
 },
 "nbformat": 4,
 "nbformat_minor": 1
}
